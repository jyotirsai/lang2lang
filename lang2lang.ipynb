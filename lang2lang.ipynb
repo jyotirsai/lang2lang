{
  "nbformat": 4,
  "nbformat_minor": 0,
  "metadata": {
    "colab": {
      "provenance": [],
      "machine_shape": "hm",
      "gpuType": "T4"
    },
    "kernelspec": {
      "name": "python3",
      "display_name": "Python 3"
    },
    "language_info": {
      "name": "python"
    },
    "accelerator": "GPU",
    "widgets": {
      "application/vnd.jupyter.widget-state+json": {
        "95bd9af0c519491696cb2ee8a47bd52f": {
          "model_module": "@jupyter-widgets/controls",
          "model_name": "HBoxModel",
          "model_module_version": "1.5.0",
          "state": {
            "_dom_classes": [],
            "_model_module": "@jupyter-widgets/controls",
            "_model_module_version": "1.5.0",
            "_model_name": "HBoxModel",
            "_view_count": null,
            "_view_module": "@jupyter-widgets/controls",
            "_view_module_version": "1.5.0",
            "_view_name": "HBoxView",
            "box_style": "",
            "children": [
              "IPY_MODEL_090c53f1a6b246c4b27ce03fcc8eac4e",
              "IPY_MODEL_dd9e3d0344374d3c994136f9286940ab",
              "IPY_MODEL_50b123fbf52446e8a6406f881e8b80c4"
            ],
            "layout": "IPY_MODEL_6afbd94acf5c4b0ea3d2fbb9a71e2296"
          }
        },
        "090c53f1a6b246c4b27ce03fcc8eac4e": {
          "model_module": "@jupyter-widgets/controls",
          "model_name": "HTMLModel",
          "model_module_version": "1.5.0",
          "state": {
            "_dom_classes": [],
            "_model_module": "@jupyter-widgets/controls",
            "_model_module_version": "1.5.0",
            "_model_name": "HTMLModel",
            "_view_count": null,
            "_view_module": "@jupyter-widgets/controls",
            "_view_module_version": "1.5.0",
            "_view_name": "HTMLView",
            "description": "",
            "description_tooltip": null,
            "layout": "IPY_MODEL_5bc17d78dedf4c24bcff95fa14f733de",
            "placeholder": "​",
            "style": "IPY_MODEL_4eac13093b67455ca0acfaef24648f58",
            "value": "Downloading builder script: 100%"
          }
        },
        "dd9e3d0344374d3c994136f9286940ab": {
          "model_module": "@jupyter-widgets/controls",
          "model_name": "FloatProgressModel",
          "model_module_version": "1.5.0",
          "state": {
            "_dom_classes": [],
            "_model_module": "@jupyter-widgets/controls",
            "_model_module_version": "1.5.0",
            "_model_name": "FloatProgressModel",
            "_view_count": null,
            "_view_module": "@jupyter-widgets/controls",
            "_view_module_version": "1.5.0",
            "_view_name": "ProgressView",
            "bar_style": "success",
            "description": "",
            "description_tooltip": null,
            "layout": "IPY_MODEL_3397814142c3446f88a5e5aa64302810",
            "max": 8170,
            "min": 0,
            "orientation": "horizontal",
            "style": "IPY_MODEL_5e87bd1cad5842e6ac95a3ee8d526624",
            "value": 8170
          }
        },
        "50b123fbf52446e8a6406f881e8b80c4": {
          "model_module": "@jupyter-widgets/controls",
          "model_name": "HTMLModel",
          "model_module_version": "1.5.0",
          "state": {
            "_dom_classes": [],
            "_model_module": "@jupyter-widgets/controls",
            "_model_module_version": "1.5.0",
            "_model_name": "HTMLModel",
            "_view_count": null,
            "_view_module": "@jupyter-widgets/controls",
            "_view_module_version": "1.5.0",
            "_view_name": "HTMLView",
            "description": "",
            "description_tooltip": null,
            "layout": "IPY_MODEL_fc88ca0d3c88414393a1521f264370b0",
            "placeholder": "​",
            "style": "IPY_MODEL_6bb3e988f11d446aa94d7fbe63288f45",
            "value": " 8.17k/8.17k [00:00&lt;00:00, 565kB/s]"
          }
        },
        "6afbd94acf5c4b0ea3d2fbb9a71e2296": {
          "model_module": "@jupyter-widgets/base",
          "model_name": "LayoutModel",
          "model_module_version": "1.2.0",
          "state": {
            "_model_module": "@jupyter-widgets/base",
            "_model_module_version": "1.2.0",
            "_model_name": "LayoutModel",
            "_view_count": null,
            "_view_module": "@jupyter-widgets/base",
            "_view_module_version": "1.2.0",
            "_view_name": "LayoutView",
            "align_content": null,
            "align_items": null,
            "align_self": null,
            "border": null,
            "bottom": null,
            "display": null,
            "flex": null,
            "flex_flow": null,
            "grid_area": null,
            "grid_auto_columns": null,
            "grid_auto_flow": null,
            "grid_auto_rows": null,
            "grid_column": null,
            "grid_gap": null,
            "grid_row": null,
            "grid_template_areas": null,
            "grid_template_columns": null,
            "grid_template_rows": null,
            "height": null,
            "justify_content": null,
            "justify_items": null,
            "left": null,
            "margin": null,
            "max_height": null,
            "max_width": null,
            "min_height": null,
            "min_width": null,
            "object_fit": null,
            "object_position": null,
            "order": null,
            "overflow": null,
            "overflow_x": null,
            "overflow_y": null,
            "padding": null,
            "right": null,
            "top": null,
            "visibility": null,
            "width": null
          }
        },
        "5bc17d78dedf4c24bcff95fa14f733de": {
          "model_module": "@jupyter-widgets/base",
          "model_name": "LayoutModel",
          "model_module_version": "1.2.0",
          "state": {
            "_model_module": "@jupyter-widgets/base",
            "_model_module_version": "1.2.0",
            "_model_name": "LayoutModel",
            "_view_count": null,
            "_view_module": "@jupyter-widgets/base",
            "_view_module_version": "1.2.0",
            "_view_name": "LayoutView",
            "align_content": null,
            "align_items": null,
            "align_self": null,
            "border": null,
            "bottom": null,
            "display": null,
            "flex": null,
            "flex_flow": null,
            "grid_area": null,
            "grid_auto_columns": null,
            "grid_auto_flow": null,
            "grid_auto_rows": null,
            "grid_column": null,
            "grid_gap": null,
            "grid_row": null,
            "grid_template_areas": null,
            "grid_template_columns": null,
            "grid_template_rows": null,
            "height": null,
            "justify_content": null,
            "justify_items": null,
            "left": null,
            "margin": null,
            "max_height": null,
            "max_width": null,
            "min_height": null,
            "min_width": null,
            "object_fit": null,
            "object_position": null,
            "order": null,
            "overflow": null,
            "overflow_x": null,
            "overflow_y": null,
            "padding": null,
            "right": null,
            "top": null,
            "visibility": null,
            "width": null
          }
        },
        "4eac13093b67455ca0acfaef24648f58": {
          "model_module": "@jupyter-widgets/controls",
          "model_name": "DescriptionStyleModel",
          "model_module_version": "1.5.0",
          "state": {
            "_model_module": "@jupyter-widgets/controls",
            "_model_module_version": "1.5.0",
            "_model_name": "DescriptionStyleModel",
            "_view_count": null,
            "_view_module": "@jupyter-widgets/base",
            "_view_module_version": "1.2.0",
            "_view_name": "StyleView",
            "description_width": ""
          }
        },
        "3397814142c3446f88a5e5aa64302810": {
          "model_module": "@jupyter-widgets/base",
          "model_name": "LayoutModel",
          "model_module_version": "1.2.0",
          "state": {
            "_model_module": "@jupyter-widgets/base",
            "_model_module_version": "1.2.0",
            "_model_name": "LayoutModel",
            "_view_count": null,
            "_view_module": "@jupyter-widgets/base",
            "_view_module_version": "1.2.0",
            "_view_name": "LayoutView",
            "align_content": null,
            "align_items": null,
            "align_self": null,
            "border": null,
            "bottom": null,
            "display": null,
            "flex": null,
            "flex_flow": null,
            "grid_area": null,
            "grid_auto_columns": null,
            "grid_auto_flow": null,
            "grid_auto_rows": null,
            "grid_column": null,
            "grid_gap": null,
            "grid_row": null,
            "grid_template_areas": null,
            "grid_template_columns": null,
            "grid_template_rows": null,
            "height": null,
            "justify_content": null,
            "justify_items": null,
            "left": null,
            "margin": null,
            "max_height": null,
            "max_width": null,
            "min_height": null,
            "min_width": null,
            "object_fit": null,
            "object_position": null,
            "order": null,
            "overflow": null,
            "overflow_x": null,
            "overflow_y": null,
            "padding": null,
            "right": null,
            "top": null,
            "visibility": null,
            "width": null
          }
        },
        "5e87bd1cad5842e6ac95a3ee8d526624": {
          "model_module": "@jupyter-widgets/controls",
          "model_name": "ProgressStyleModel",
          "model_module_version": "1.5.0",
          "state": {
            "_model_module": "@jupyter-widgets/controls",
            "_model_module_version": "1.5.0",
            "_model_name": "ProgressStyleModel",
            "_view_count": null,
            "_view_module": "@jupyter-widgets/base",
            "_view_module_version": "1.2.0",
            "_view_name": "StyleView",
            "bar_color": null,
            "description_width": ""
          }
        },
        "fc88ca0d3c88414393a1521f264370b0": {
          "model_module": "@jupyter-widgets/base",
          "model_name": "LayoutModel",
          "model_module_version": "1.2.0",
          "state": {
            "_model_module": "@jupyter-widgets/base",
            "_model_module_version": "1.2.0",
            "_model_name": "LayoutModel",
            "_view_count": null,
            "_view_module": "@jupyter-widgets/base",
            "_view_module_version": "1.2.0",
            "_view_name": "LayoutView",
            "align_content": null,
            "align_items": null,
            "align_self": null,
            "border": null,
            "bottom": null,
            "display": null,
            "flex": null,
            "flex_flow": null,
            "grid_area": null,
            "grid_auto_columns": null,
            "grid_auto_flow": null,
            "grid_auto_rows": null,
            "grid_column": null,
            "grid_gap": null,
            "grid_row": null,
            "grid_template_areas": null,
            "grid_template_columns": null,
            "grid_template_rows": null,
            "height": null,
            "justify_content": null,
            "justify_items": null,
            "left": null,
            "margin": null,
            "max_height": null,
            "max_width": null,
            "min_height": null,
            "min_width": null,
            "object_fit": null,
            "object_position": null,
            "order": null,
            "overflow": null,
            "overflow_x": null,
            "overflow_y": null,
            "padding": null,
            "right": null,
            "top": null,
            "visibility": null,
            "width": null
          }
        },
        "6bb3e988f11d446aa94d7fbe63288f45": {
          "model_module": "@jupyter-widgets/controls",
          "model_name": "DescriptionStyleModel",
          "model_module_version": "1.5.0",
          "state": {
            "_model_module": "@jupyter-widgets/controls",
            "_model_module_version": "1.5.0",
            "_model_name": "DescriptionStyleModel",
            "_view_count": null,
            "_view_module": "@jupyter-widgets/base",
            "_view_module_version": "1.2.0",
            "_view_name": "StyleView",
            "description_width": ""
          }
        },
        "6b0f9ea227a448159d5094e99a9cf3c4": {
          "model_module": "@jupyter-widgets/controls",
          "model_name": "HBoxModel",
          "model_module_version": "1.5.0",
          "state": {
            "_dom_classes": [],
            "_model_module": "@jupyter-widgets/controls",
            "_model_module_version": "1.5.0",
            "_model_name": "HBoxModel",
            "_view_count": null,
            "_view_module": "@jupyter-widgets/controls",
            "_view_module_version": "1.5.0",
            "_view_name": "HBoxView",
            "box_style": "",
            "children": [
              "IPY_MODEL_9374736829144e0e80f58c5f0e26611b",
              "IPY_MODEL_f1845d39a6444b0c848152354c56eaf1",
              "IPY_MODEL_c25632edc3554c7689e852f832795f62"
            ],
            "layout": "IPY_MODEL_8868aeac9cb34471a263780b3f5403a0"
          }
        },
        "9374736829144e0e80f58c5f0e26611b": {
          "model_module": "@jupyter-widgets/controls",
          "model_name": "HTMLModel",
          "model_module_version": "1.5.0",
          "state": {
            "_dom_classes": [],
            "_model_module": "@jupyter-widgets/controls",
            "_model_module_version": "1.5.0",
            "_model_name": "HTMLModel",
            "_view_count": null,
            "_view_module": "@jupyter-widgets/controls",
            "_view_module_version": "1.5.0",
            "_view_name": "HTMLView",
            "description": "",
            "description_tooltip": null,
            "layout": "IPY_MODEL_49f760dd5fe4409da9e0a16fe0768b83",
            "placeholder": "​",
            "style": "IPY_MODEL_4a589ed625bf4ae1987c70e05951fff1",
            "value": "Downloading readme: 100%"
          }
        },
        "f1845d39a6444b0c848152354c56eaf1": {
          "model_module": "@jupyter-widgets/controls",
          "model_name": "FloatProgressModel",
          "model_module_version": "1.5.0",
          "state": {
            "_dom_classes": [],
            "_model_module": "@jupyter-widgets/controls",
            "_model_module_version": "1.5.0",
            "_model_name": "FloatProgressModel",
            "_view_count": null,
            "_view_module": "@jupyter-widgets/controls",
            "_view_module_version": "1.5.0",
            "_view_name": "ProgressView",
            "bar_style": "success",
            "description": "",
            "description_tooltip": null,
            "layout": "IPY_MODEL_4ea95201e7674023a8659a552b1859fa",
            "max": 18506,
            "min": 0,
            "orientation": "horizontal",
            "style": "IPY_MODEL_adf9f285e35e492c9a268f386166043b",
            "value": 18506
          }
        },
        "c25632edc3554c7689e852f832795f62": {
          "model_module": "@jupyter-widgets/controls",
          "model_name": "HTMLModel",
          "model_module_version": "1.5.0",
          "state": {
            "_dom_classes": [],
            "_model_module": "@jupyter-widgets/controls",
            "_model_module_version": "1.5.0",
            "_model_name": "HTMLModel",
            "_view_count": null,
            "_view_module": "@jupyter-widgets/controls",
            "_view_module_version": "1.5.0",
            "_view_name": "HTMLView",
            "description": "",
            "description_tooltip": null,
            "layout": "IPY_MODEL_5d83272b4b044f44b8a66dddcc2a11c1",
            "placeholder": "​",
            "style": "IPY_MODEL_365a1b8227af481bbf74fac305553e70",
            "value": " 18.5k/18.5k [00:00&lt;00:00, 1.28MB/s]"
          }
        },
        "8868aeac9cb34471a263780b3f5403a0": {
          "model_module": "@jupyter-widgets/base",
          "model_name": "LayoutModel",
          "model_module_version": "1.2.0",
          "state": {
            "_model_module": "@jupyter-widgets/base",
            "_model_module_version": "1.2.0",
            "_model_name": "LayoutModel",
            "_view_count": null,
            "_view_module": "@jupyter-widgets/base",
            "_view_module_version": "1.2.0",
            "_view_name": "LayoutView",
            "align_content": null,
            "align_items": null,
            "align_self": null,
            "border": null,
            "bottom": null,
            "display": null,
            "flex": null,
            "flex_flow": null,
            "grid_area": null,
            "grid_auto_columns": null,
            "grid_auto_flow": null,
            "grid_auto_rows": null,
            "grid_column": null,
            "grid_gap": null,
            "grid_row": null,
            "grid_template_areas": null,
            "grid_template_columns": null,
            "grid_template_rows": null,
            "height": null,
            "justify_content": null,
            "justify_items": null,
            "left": null,
            "margin": null,
            "max_height": null,
            "max_width": null,
            "min_height": null,
            "min_width": null,
            "object_fit": null,
            "object_position": null,
            "order": null,
            "overflow": null,
            "overflow_x": null,
            "overflow_y": null,
            "padding": null,
            "right": null,
            "top": null,
            "visibility": null,
            "width": null
          }
        },
        "49f760dd5fe4409da9e0a16fe0768b83": {
          "model_module": "@jupyter-widgets/base",
          "model_name": "LayoutModel",
          "model_module_version": "1.2.0",
          "state": {
            "_model_module": "@jupyter-widgets/base",
            "_model_module_version": "1.2.0",
            "_model_name": "LayoutModel",
            "_view_count": null,
            "_view_module": "@jupyter-widgets/base",
            "_view_module_version": "1.2.0",
            "_view_name": "LayoutView",
            "align_content": null,
            "align_items": null,
            "align_self": null,
            "border": null,
            "bottom": null,
            "display": null,
            "flex": null,
            "flex_flow": null,
            "grid_area": null,
            "grid_auto_columns": null,
            "grid_auto_flow": null,
            "grid_auto_rows": null,
            "grid_column": null,
            "grid_gap": null,
            "grid_row": null,
            "grid_template_areas": null,
            "grid_template_columns": null,
            "grid_template_rows": null,
            "height": null,
            "justify_content": null,
            "justify_items": null,
            "left": null,
            "margin": null,
            "max_height": null,
            "max_width": null,
            "min_height": null,
            "min_width": null,
            "object_fit": null,
            "object_position": null,
            "order": null,
            "overflow": null,
            "overflow_x": null,
            "overflow_y": null,
            "padding": null,
            "right": null,
            "top": null,
            "visibility": null,
            "width": null
          }
        },
        "4a589ed625bf4ae1987c70e05951fff1": {
          "model_module": "@jupyter-widgets/controls",
          "model_name": "DescriptionStyleModel",
          "model_module_version": "1.5.0",
          "state": {
            "_model_module": "@jupyter-widgets/controls",
            "_model_module_version": "1.5.0",
            "_model_name": "DescriptionStyleModel",
            "_view_count": null,
            "_view_module": "@jupyter-widgets/base",
            "_view_module_version": "1.2.0",
            "_view_name": "StyleView",
            "description_width": ""
          }
        },
        "4ea95201e7674023a8659a552b1859fa": {
          "model_module": "@jupyter-widgets/base",
          "model_name": "LayoutModel",
          "model_module_version": "1.2.0",
          "state": {
            "_model_module": "@jupyter-widgets/base",
            "_model_module_version": "1.2.0",
            "_model_name": "LayoutModel",
            "_view_count": null,
            "_view_module": "@jupyter-widgets/base",
            "_view_module_version": "1.2.0",
            "_view_name": "LayoutView",
            "align_content": null,
            "align_items": null,
            "align_self": null,
            "border": null,
            "bottom": null,
            "display": null,
            "flex": null,
            "flex_flow": null,
            "grid_area": null,
            "grid_auto_columns": null,
            "grid_auto_flow": null,
            "grid_auto_rows": null,
            "grid_column": null,
            "grid_gap": null,
            "grid_row": null,
            "grid_template_areas": null,
            "grid_template_columns": null,
            "grid_template_rows": null,
            "height": null,
            "justify_content": null,
            "justify_items": null,
            "left": null,
            "margin": null,
            "max_height": null,
            "max_width": null,
            "min_height": null,
            "min_width": null,
            "object_fit": null,
            "object_position": null,
            "order": null,
            "overflow": null,
            "overflow_x": null,
            "overflow_y": null,
            "padding": null,
            "right": null,
            "top": null,
            "visibility": null,
            "width": null
          }
        },
        "adf9f285e35e492c9a268f386166043b": {
          "model_module": "@jupyter-widgets/controls",
          "model_name": "ProgressStyleModel",
          "model_module_version": "1.5.0",
          "state": {
            "_model_module": "@jupyter-widgets/controls",
            "_model_module_version": "1.5.0",
            "_model_name": "ProgressStyleModel",
            "_view_count": null,
            "_view_module": "@jupyter-widgets/base",
            "_view_module_version": "1.2.0",
            "_view_name": "StyleView",
            "bar_color": null,
            "description_width": ""
          }
        },
        "5d83272b4b044f44b8a66dddcc2a11c1": {
          "model_module": "@jupyter-widgets/base",
          "model_name": "LayoutModel",
          "model_module_version": "1.2.0",
          "state": {
            "_model_module": "@jupyter-widgets/base",
            "_model_module_version": "1.2.0",
            "_model_name": "LayoutModel",
            "_view_count": null,
            "_view_module": "@jupyter-widgets/base",
            "_view_module_version": "1.2.0",
            "_view_name": "LayoutView",
            "align_content": null,
            "align_items": null,
            "align_self": null,
            "border": null,
            "bottom": null,
            "display": null,
            "flex": null,
            "flex_flow": null,
            "grid_area": null,
            "grid_auto_columns": null,
            "grid_auto_flow": null,
            "grid_auto_rows": null,
            "grid_column": null,
            "grid_gap": null,
            "grid_row": null,
            "grid_template_areas": null,
            "grid_template_columns": null,
            "grid_template_rows": null,
            "height": null,
            "justify_content": null,
            "justify_items": null,
            "left": null,
            "margin": null,
            "max_height": null,
            "max_width": null,
            "min_height": null,
            "min_width": null,
            "object_fit": null,
            "object_position": null,
            "order": null,
            "overflow": null,
            "overflow_x": null,
            "overflow_y": null,
            "padding": null,
            "right": null,
            "top": null,
            "visibility": null,
            "width": null
          }
        },
        "365a1b8227af481bbf74fac305553e70": {
          "model_module": "@jupyter-widgets/controls",
          "model_name": "DescriptionStyleModel",
          "model_module_version": "1.5.0",
          "state": {
            "_model_module": "@jupyter-widgets/controls",
            "_model_module_version": "1.5.0",
            "_model_name": "DescriptionStyleModel",
            "_view_count": null,
            "_view_module": "@jupyter-widgets/base",
            "_view_module_version": "1.2.0",
            "_view_name": "StyleView",
            "description_width": ""
          }
        },
        "e1218c9644374b4b8cf9ec3a0e406449": {
          "model_module": "@jupyter-widgets/controls",
          "model_name": "HBoxModel",
          "model_module_version": "1.5.0",
          "state": {
            "_dom_classes": [],
            "_model_module": "@jupyter-widgets/controls",
            "_model_module_version": "1.5.0",
            "_model_name": "HBoxModel",
            "_view_count": null,
            "_view_module": "@jupyter-widgets/controls",
            "_view_module_version": "1.5.0",
            "_view_name": "HBoxView",
            "box_style": "",
            "children": [
              "IPY_MODEL_a54debff5fb04ad392581c8100934f39",
              "IPY_MODEL_99ec8b1c149843fa8b5f39c5ac457dba",
              "IPY_MODEL_d05d3a45d29c4f94aaeb7b1ed55e2ed2"
            ],
            "layout": "IPY_MODEL_141e3c8e4e5b449e9c075b6a59c80b4d"
          }
        },
        "a54debff5fb04ad392581c8100934f39": {
          "model_module": "@jupyter-widgets/controls",
          "model_name": "HTMLModel",
          "model_module_version": "1.5.0",
          "state": {
            "_dom_classes": [],
            "_model_module": "@jupyter-widgets/controls",
            "_model_module_version": "1.5.0",
            "_model_name": "HTMLModel",
            "_view_count": null,
            "_view_module": "@jupyter-widgets/controls",
            "_view_module_version": "1.5.0",
            "_view_name": "HTMLView",
            "description": "",
            "description_tooltip": null,
            "layout": "IPY_MODEL_0ce9048c61ba4f94ac2a842354c7857c",
            "placeholder": "​",
            "style": "IPY_MODEL_23f9458ac64b401ca60674d51733666b",
            "value": "Downloading data: 100%"
          }
        },
        "99ec8b1c149843fa8b5f39c5ac457dba": {
          "model_module": "@jupyter-widgets/controls",
          "model_name": "FloatProgressModel",
          "model_module_version": "1.5.0",
          "state": {
            "_dom_classes": [],
            "_model_module": "@jupyter-widgets/controls",
            "_model_module_version": "1.5.0",
            "_model_name": "FloatProgressModel",
            "_view_count": null,
            "_view_module": "@jupyter-widgets/controls",
            "_view_module_version": "1.5.0",
            "_view_name": "ProgressView",
            "bar_style": "success",
            "description": "",
            "description_tooltip": null,
            "layout": "IPY_MODEL_797f599c9bf94a74bcee4cf835e9e845",
            "max": 27699724,
            "min": 0,
            "orientation": "horizontal",
            "style": "IPY_MODEL_64b4074a61024d49b60b01c05500ed92",
            "value": 27699724
          }
        },
        "d05d3a45d29c4f94aaeb7b1ed55e2ed2": {
          "model_module": "@jupyter-widgets/controls",
          "model_name": "HTMLModel",
          "model_module_version": "1.5.0",
          "state": {
            "_dom_classes": [],
            "_model_module": "@jupyter-widgets/controls",
            "_model_module_version": "1.5.0",
            "_model_name": "HTMLModel",
            "_view_count": null,
            "_view_module": "@jupyter-widgets/controls",
            "_view_module_version": "1.5.0",
            "_view_name": "HTMLView",
            "description": "",
            "description_tooltip": null,
            "layout": "IPY_MODEL_96d3040f66614f2dab3214e7d82a137d",
            "placeholder": "​",
            "style": "IPY_MODEL_2cfa2e9961fb40dbb0f0def04d14c1c2",
            "value": " 27.7M/27.7M [00:01&lt;00:00, 34.4MB/s]"
          }
        },
        "141e3c8e4e5b449e9c075b6a59c80b4d": {
          "model_module": "@jupyter-widgets/base",
          "model_name": "LayoutModel",
          "model_module_version": "1.2.0",
          "state": {
            "_model_module": "@jupyter-widgets/base",
            "_model_module_version": "1.2.0",
            "_model_name": "LayoutModel",
            "_view_count": null,
            "_view_module": "@jupyter-widgets/base",
            "_view_module_version": "1.2.0",
            "_view_name": "LayoutView",
            "align_content": null,
            "align_items": null,
            "align_self": null,
            "border": null,
            "bottom": null,
            "display": null,
            "flex": null,
            "flex_flow": null,
            "grid_area": null,
            "grid_auto_columns": null,
            "grid_auto_flow": null,
            "grid_auto_rows": null,
            "grid_column": null,
            "grid_gap": null,
            "grid_row": null,
            "grid_template_areas": null,
            "grid_template_columns": null,
            "grid_template_rows": null,
            "height": null,
            "justify_content": null,
            "justify_items": null,
            "left": null,
            "margin": null,
            "max_height": null,
            "max_width": null,
            "min_height": null,
            "min_width": null,
            "object_fit": null,
            "object_position": null,
            "order": null,
            "overflow": null,
            "overflow_x": null,
            "overflow_y": null,
            "padding": null,
            "right": null,
            "top": null,
            "visibility": null,
            "width": null
          }
        },
        "0ce9048c61ba4f94ac2a842354c7857c": {
          "model_module": "@jupyter-widgets/base",
          "model_name": "LayoutModel",
          "model_module_version": "1.2.0",
          "state": {
            "_model_module": "@jupyter-widgets/base",
            "_model_module_version": "1.2.0",
            "_model_name": "LayoutModel",
            "_view_count": null,
            "_view_module": "@jupyter-widgets/base",
            "_view_module_version": "1.2.0",
            "_view_name": "LayoutView",
            "align_content": null,
            "align_items": null,
            "align_self": null,
            "border": null,
            "bottom": null,
            "display": null,
            "flex": null,
            "flex_flow": null,
            "grid_area": null,
            "grid_auto_columns": null,
            "grid_auto_flow": null,
            "grid_auto_rows": null,
            "grid_column": null,
            "grid_gap": null,
            "grid_row": null,
            "grid_template_areas": null,
            "grid_template_columns": null,
            "grid_template_rows": null,
            "height": null,
            "justify_content": null,
            "justify_items": null,
            "left": null,
            "margin": null,
            "max_height": null,
            "max_width": null,
            "min_height": null,
            "min_width": null,
            "object_fit": null,
            "object_position": null,
            "order": null,
            "overflow": null,
            "overflow_x": null,
            "overflow_y": null,
            "padding": null,
            "right": null,
            "top": null,
            "visibility": null,
            "width": null
          }
        },
        "23f9458ac64b401ca60674d51733666b": {
          "model_module": "@jupyter-widgets/controls",
          "model_name": "DescriptionStyleModel",
          "model_module_version": "1.5.0",
          "state": {
            "_model_module": "@jupyter-widgets/controls",
            "_model_module_version": "1.5.0",
            "_model_name": "DescriptionStyleModel",
            "_view_count": null,
            "_view_module": "@jupyter-widgets/base",
            "_view_module_version": "1.2.0",
            "_view_name": "StyleView",
            "description_width": ""
          }
        },
        "797f599c9bf94a74bcee4cf835e9e845": {
          "model_module": "@jupyter-widgets/base",
          "model_name": "LayoutModel",
          "model_module_version": "1.2.0",
          "state": {
            "_model_module": "@jupyter-widgets/base",
            "_model_module_version": "1.2.0",
            "_model_name": "LayoutModel",
            "_view_count": null,
            "_view_module": "@jupyter-widgets/base",
            "_view_module_version": "1.2.0",
            "_view_name": "LayoutView",
            "align_content": null,
            "align_items": null,
            "align_self": null,
            "border": null,
            "bottom": null,
            "display": null,
            "flex": null,
            "flex_flow": null,
            "grid_area": null,
            "grid_auto_columns": null,
            "grid_auto_flow": null,
            "grid_auto_rows": null,
            "grid_column": null,
            "grid_gap": null,
            "grid_row": null,
            "grid_template_areas": null,
            "grid_template_columns": null,
            "grid_template_rows": null,
            "height": null,
            "justify_content": null,
            "justify_items": null,
            "left": null,
            "margin": null,
            "max_height": null,
            "max_width": null,
            "min_height": null,
            "min_width": null,
            "object_fit": null,
            "object_position": null,
            "order": null,
            "overflow": null,
            "overflow_x": null,
            "overflow_y": null,
            "padding": null,
            "right": null,
            "top": null,
            "visibility": null,
            "width": null
          }
        },
        "64b4074a61024d49b60b01c05500ed92": {
          "model_module": "@jupyter-widgets/controls",
          "model_name": "ProgressStyleModel",
          "model_module_version": "1.5.0",
          "state": {
            "_model_module": "@jupyter-widgets/controls",
            "_model_module_version": "1.5.0",
            "_model_name": "ProgressStyleModel",
            "_view_count": null,
            "_view_module": "@jupyter-widgets/base",
            "_view_module_version": "1.2.0",
            "_view_name": "StyleView",
            "bar_color": null,
            "description_width": ""
          }
        },
        "96d3040f66614f2dab3214e7d82a137d": {
          "model_module": "@jupyter-widgets/base",
          "model_name": "LayoutModel",
          "model_module_version": "1.2.0",
          "state": {
            "_model_module": "@jupyter-widgets/base",
            "_model_module_version": "1.2.0",
            "_model_name": "LayoutModel",
            "_view_count": null,
            "_view_module": "@jupyter-widgets/base",
            "_view_module_version": "1.2.0",
            "_view_name": "LayoutView",
            "align_content": null,
            "align_items": null,
            "align_self": null,
            "border": null,
            "bottom": null,
            "display": null,
            "flex": null,
            "flex_flow": null,
            "grid_area": null,
            "grid_auto_columns": null,
            "grid_auto_flow": null,
            "grid_auto_rows": null,
            "grid_column": null,
            "grid_gap": null,
            "grid_row": null,
            "grid_template_areas": null,
            "grid_template_columns": null,
            "grid_template_rows": null,
            "height": null,
            "justify_content": null,
            "justify_items": null,
            "left": null,
            "margin": null,
            "max_height": null,
            "max_width": null,
            "min_height": null,
            "min_width": null,
            "object_fit": null,
            "object_position": null,
            "order": null,
            "overflow": null,
            "overflow_x": null,
            "overflow_y": null,
            "padding": null,
            "right": null,
            "top": null,
            "visibility": null,
            "width": null
          }
        },
        "2cfa2e9961fb40dbb0f0def04d14c1c2": {
          "model_module": "@jupyter-widgets/controls",
          "model_name": "DescriptionStyleModel",
          "model_module_version": "1.5.0",
          "state": {
            "_model_module": "@jupyter-widgets/controls",
            "_model_module_version": "1.5.0",
            "_model_name": "DescriptionStyleModel",
            "_view_count": null,
            "_view_module": "@jupyter-widgets/base",
            "_view_module_version": "1.2.0",
            "_view_name": "StyleView",
            "description_width": ""
          }
        },
        "9ab90b5da2c84a10a2838c3a23d752e7": {
          "model_module": "@jupyter-widgets/controls",
          "model_name": "HBoxModel",
          "model_module_version": "1.5.0",
          "state": {
            "_dom_classes": [],
            "_model_module": "@jupyter-widgets/controls",
            "_model_module_version": "1.5.0",
            "_model_name": "HBoxModel",
            "_view_count": null,
            "_view_module": "@jupyter-widgets/controls",
            "_view_module_version": "1.5.0",
            "_view_name": "HBoxView",
            "box_style": "",
            "children": [
              "IPY_MODEL_a2f7571b35d343169ef4b4e6146eff00",
              "IPY_MODEL_0ef2689c256246d29295e1bb81de5929",
              "IPY_MODEL_c61e477016d54ca9930beb976f6a4883"
            ],
            "layout": "IPY_MODEL_777cdc9387104a5ab5343b2100a684ff"
          }
        },
        "a2f7571b35d343169ef4b4e6146eff00": {
          "model_module": "@jupyter-widgets/controls",
          "model_name": "HTMLModel",
          "model_module_version": "1.5.0",
          "state": {
            "_dom_classes": [],
            "_model_module": "@jupyter-widgets/controls",
            "_model_module_version": "1.5.0",
            "_model_name": "HTMLModel",
            "_view_count": null,
            "_view_module": "@jupyter-widgets/controls",
            "_view_module_version": "1.5.0",
            "_view_name": "HTMLView",
            "description": "",
            "description_tooltip": null,
            "layout": "IPY_MODEL_f93e58365023424e898654162fe1ab0e",
            "placeholder": "​",
            "style": "IPY_MODEL_9fb7ddbb5de645868f6f59031bf0949c",
            "value": "Generating train split: 100%"
          }
        },
        "0ef2689c256246d29295e1bb81de5929": {
          "model_module": "@jupyter-widgets/controls",
          "model_name": "FloatProgressModel",
          "model_module_version": "1.5.0",
          "state": {
            "_dom_classes": [],
            "_model_module": "@jupyter-widgets/controls",
            "_model_module_version": "1.5.0",
            "_model_name": "FloatProgressModel",
            "_view_count": null,
            "_view_module": "@jupyter-widgets/controls",
            "_view_module_version": "1.5.0",
            "_view_name": "ProgressView",
            "bar_style": "success",
            "description": "",
            "description_tooltip": null,
            "layout": "IPY_MODEL_774e17f468554f349be609a5fc46d738",
            "max": 232825,
            "min": 0,
            "orientation": "horizontal",
            "style": "IPY_MODEL_6ec3e11e621c4d939dbae66464135360",
            "value": 232825
          }
        },
        "c61e477016d54ca9930beb976f6a4883": {
          "model_module": "@jupyter-widgets/controls",
          "model_name": "HTMLModel",
          "model_module_version": "1.5.0",
          "state": {
            "_dom_classes": [],
            "_model_module": "@jupyter-widgets/controls",
            "_model_module_version": "1.5.0",
            "_model_name": "HTMLModel",
            "_view_count": null,
            "_view_module": "@jupyter-widgets/controls",
            "_view_module_version": "1.5.0",
            "_view_name": "HTMLView",
            "description": "",
            "description_tooltip": null,
            "layout": "IPY_MODEL_cd7924dcd7fe4784ad6d2e959d6cd967",
            "placeholder": "​",
            "style": "IPY_MODEL_dbed7f4ce90a43eba3b95e161c8356c9",
            "value": " 232825/232825 [00:05&lt;00:00, 43333.70 examples/s]"
          }
        },
        "777cdc9387104a5ab5343b2100a684ff": {
          "model_module": "@jupyter-widgets/base",
          "model_name": "LayoutModel",
          "model_module_version": "1.2.0",
          "state": {
            "_model_module": "@jupyter-widgets/base",
            "_model_module_version": "1.2.0",
            "_model_name": "LayoutModel",
            "_view_count": null,
            "_view_module": "@jupyter-widgets/base",
            "_view_module_version": "1.2.0",
            "_view_name": "LayoutView",
            "align_content": null,
            "align_items": null,
            "align_self": null,
            "border": null,
            "bottom": null,
            "display": null,
            "flex": null,
            "flex_flow": null,
            "grid_area": null,
            "grid_auto_columns": null,
            "grid_auto_flow": null,
            "grid_auto_rows": null,
            "grid_column": null,
            "grid_gap": null,
            "grid_row": null,
            "grid_template_areas": null,
            "grid_template_columns": null,
            "grid_template_rows": null,
            "height": null,
            "justify_content": null,
            "justify_items": null,
            "left": null,
            "margin": null,
            "max_height": null,
            "max_width": null,
            "min_height": null,
            "min_width": null,
            "object_fit": null,
            "object_position": null,
            "order": null,
            "overflow": null,
            "overflow_x": null,
            "overflow_y": null,
            "padding": null,
            "right": null,
            "top": null,
            "visibility": null,
            "width": null
          }
        },
        "f93e58365023424e898654162fe1ab0e": {
          "model_module": "@jupyter-widgets/base",
          "model_name": "LayoutModel",
          "model_module_version": "1.2.0",
          "state": {
            "_model_module": "@jupyter-widgets/base",
            "_model_module_version": "1.2.0",
            "_model_name": "LayoutModel",
            "_view_count": null,
            "_view_module": "@jupyter-widgets/base",
            "_view_module_version": "1.2.0",
            "_view_name": "LayoutView",
            "align_content": null,
            "align_items": null,
            "align_self": null,
            "border": null,
            "bottom": null,
            "display": null,
            "flex": null,
            "flex_flow": null,
            "grid_area": null,
            "grid_auto_columns": null,
            "grid_auto_flow": null,
            "grid_auto_rows": null,
            "grid_column": null,
            "grid_gap": null,
            "grid_row": null,
            "grid_template_areas": null,
            "grid_template_columns": null,
            "grid_template_rows": null,
            "height": null,
            "justify_content": null,
            "justify_items": null,
            "left": null,
            "margin": null,
            "max_height": null,
            "max_width": null,
            "min_height": null,
            "min_width": null,
            "object_fit": null,
            "object_position": null,
            "order": null,
            "overflow": null,
            "overflow_x": null,
            "overflow_y": null,
            "padding": null,
            "right": null,
            "top": null,
            "visibility": null,
            "width": null
          }
        },
        "9fb7ddbb5de645868f6f59031bf0949c": {
          "model_module": "@jupyter-widgets/controls",
          "model_name": "DescriptionStyleModel",
          "model_module_version": "1.5.0",
          "state": {
            "_model_module": "@jupyter-widgets/controls",
            "_model_module_version": "1.5.0",
            "_model_name": "DescriptionStyleModel",
            "_view_count": null,
            "_view_module": "@jupyter-widgets/base",
            "_view_module_version": "1.2.0",
            "_view_name": "StyleView",
            "description_width": ""
          }
        },
        "774e17f468554f349be609a5fc46d738": {
          "model_module": "@jupyter-widgets/base",
          "model_name": "LayoutModel",
          "model_module_version": "1.2.0",
          "state": {
            "_model_module": "@jupyter-widgets/base",
            "_model_module_version": "1.2.0",
            "_model_name": "LayoutModel",
            "_view_count": null,
            "_view_module": "@jupyter-widgets/base",
            "_view_module_version": "1.2.0",
            "_view_name": "LayoutView",
            "align_content": null,
            "align_items": null,
            "align_self": null,
            "border": null,
            "bottom": null,
            "display": null,
            "flex": null,
            "flex_flow": null,
            "grid_area": null,
            "grid_auto_columns": null,
            "grid_auto_flow": null,
            "grid_auto_rows": null,
            "grid_column": null,
            "grid_gap": null,
            "grid_row": null,
            "grid_template_areas": null,
            "grid_template_columns": null,
            "grid_template_rows": null,
            "height": null,
            "justify_content": null,
            "justify_items": null,
            "left": null,
            "margin": null,
            "max_height": null,
            "max_width": null,
            "min_height": null,
            "min_width": null,
            "object_fit": null,
            "object_position": null,
            "order": null,
            "overflow": null,
            "overflow_x": null,
            "overflow_y": null,
            "padding": null,
            "right": null,
            "top": null,
            "visibility": null,
            "width": null
          }
        },
        "6ec3e11e621c4d939dbae66464135360": {
          "model_module": "@jupyter-widgets/controls",
          "model_name": "ProgressStyleModel",
          "model_module_version": "1.5.0",
          "state": {
            "_model_module": "@jupyter-widgets/controls",
            "_model_module_version": "1.5.0",
            "_model_name": "ProgressStyleModel",
            "_view_count": null,
            "_view_module": "@jupyter-widgets/base",
            "_view_module_version": "1.2.0",
            "_view_name": "StyleView",
            "bar_color": null,
            "description_width": ""
          }
        },
        "cd7924dcd7fe4784ad6d2e959d6cd967": {
          "model_module": "@jupyter-widgets/base",
          "model_name": "LayoutModel",
          "model_module_version": "1.2.0",
          "state": {
            "_model_module": "@jupyter-widgets/base",
            "_model_module_version": "1.2.0",
            "_model_name": "LayoutModel",
            "_view_count": null,
            "_view_module": "@jupyter-widgets/base",
            "_view_module_version": "1.2.0",
            "_view_name": "LayoutView",
            "align_content": null,
            "align_items": null,
            "align_self": null,
            "border": null,
            "bottom": null,
            "display": null,
            "flex": null,
            "flex_flow": null,
            "grid_area": null,
            "grid_auto_columns": null,
            "grid_auto_flow": null,
            "grid_auto_rows": null,
            "grid_column": null,
            "grid_gap": null,
            "grid_row": null,
            "grid_template_areas": null,
            "grid_template_columns": null,
            "grid_template_rows": null,
            "height": null,
            "justify_content": null,
            "justify_items": null,
            "left": null,
            "margin": null,
            "max_height": null,
            "max_width": null,
            "min_height": null,
            "min_width": null,
            "object_fit": null,
            "object_position": null,
            "order": null,
            "overflow": null,
            "overflow_x": null,
            "overflow_y": null,
            "padding": null,
            "right": null,
            "top": null,
            "visibility": null,
            "width": null
          }
        },
        "dbed7f4ce90a43eba3b95e161c8356c9": {
          "model_module": "@jupyter-widgets/controls",
          "model_name": "DescriptionStyleModel",
          "model_module_version": "1.5.0",
          "state": {
            "_model_module": "@jupyter-widgets/controls",
            "_model_module_version": "1.5.0",
            "_model_name": "DescriptionStyleModel",
            "_view_count": null,
            "_view_module": "@jupyter-widgets/base",
            "_view_module_version": "1.2.0",
            "_view_name": "StyleView",
            "description_width": ""
          }
        },
        "1504b89586644d7380d08372063fe9ca": {
          "model_module": "@jupyter-widgets/controls",
          "model_name": "HBoxModel",
          "model_module_version": "1.5.0",
          "state": {
            "_dom_classes": [],
            "_model_module": "@jupyter-widgets/controls",
            "_model_module_version": "1.5.0",
            "_model_name": "HBoxModel",
            "_view_count": null,
            "_view_module": "@jupyter-widgets/controls",
            "_view_module_version": "1.5.0",
            "_view_name": "HBoxView",
            "box_style": "",
            "children": [
              "IPY_MODEL_f2f33573daa8406ca422e773b29eaef6",
              "IPY_MODEL_c85b8f84a480493cb3669dee7aefca15",
              "IPY_MODEL_d60d450f43c54bea9069cd59103944f2"
            ],
            "layout": "IPY_MODEL_d99a1b2300274ab5b963935f29587124"
          }
        },
        "f2f33573daa8406ca422e773b29eaef6": {
          "model_module": "@jupyter-widgets/controls",
          "model_name": "HTMLModel",
          "model_module_version": "1.5.0",
          "state": {
            "_dom_classes": [],
            "_model_module": "@jupyter-widgets/controls",
            "_model_module_version": "1.5.0",
            "_model_name": "HTMLModel",
            "_view_count": null,
            "_view_module": "@jupyter-widgets/controls",
            "_view_module_version": "1.5.0",
            "_view_name": "HTMLView",
            "description": "",
            "description_tooltip": null,
            "layout": "IPY_MODEL_9fd10131c2cd440a8aaa51d928b2cb93",
            "placeholder": "​",
            "style": "IPY_MODEL_3a8abfd5cfcb45bdb10363fe70c9a4e9",
            "value": "Generating test split: 100%"
          }
        },
        "c85b8f84a480493cb3669dee7aefca15": {
          "model_module": "@jupyter-widgets/controls",
          "model_name": "FloatProgressModel",
          "model_module_version": "1.5.0",
          "state": {
            "_dom_classes": [],
            "_model_module": "@jupyter-widgets/controls",
            "_model_module_version": "1.5.0",
            "_model_name": "FloatProgressModel",
            "_view_count": null,
            "_view_module": "@jupyter-widgets/controls",
            "_view_module_version": "1.5.0",
            "_view_name": "ProgressView",
            "bar_style": "success",
            "description": "",
            "description_tooltip": null,
            "layout": "IPY_MODEL_1b0fb648f37f447f9d9b110db7d02479",
            "max": 8597,
            "min": 0,
            "orientation": "horizontal",
            "style": "IPY_MODEL_988d35d6c1774aa8903687b8496ca396",
            "value": 8597
          }
        },
        "d60d450f43c54bea9069cd59103944f2": {
          "model_module": "@jupyter-widgets/controls",
          "model_name": "HTMLModel",
          "model_module_version": "1.5.0",
          "state": {
            "_dom_classes": [],
            "_model_module": "@jupyter-widgets/controls",
            "_model_module_version": "1.5.0",
            "_model_name": "HTMLModel",
            "_view_count": null,
            "_view_module": "@jupyter-widgets/controls",
            "_view_module_version": "1.5.0",
            "_view_name": "HTMLView",
            "description": "",
            "description_tooltip": null,
            "layout": "IPY_MODEL_3e248eb3827b44e29348546bad5e8e68",
            "placeholder": "​",
            "style": "IPY_MODEL_e4e90a6cf68a401c897cd6dc564a297f",
            "value": " 8597/8597 [00:00&lt;00:00, 35213.74 examples/s]"
          }
        },
        "d99a1b2300274ab5b963935f29587124": {
          "model_module": "@jupyter-widgets/base",
          "model_name": "LayoutModel",
          "model_module_version": "1.2.0",
          "state": {
            "_model_module": "@jupyter-widgets/base",
            "_model_module_version": "1.2.0",
            "_model_name": "LayoutModel",
            "_view_count": null,
            "_view_module": "@jupyter-widgets/base",
            "_view_module_version": "1.2.0",
            "_view_name": "LayoutView",
            "align_content": null,
            "align_items": null,
            "align_self": null,
            "border": null,
            "bottom": null,
            "display": null,
            "flex": null,
            "flex_flow": null,
            "grid_area": null,
            "grid_auto_columns": null,
            "grid_auto_flow": null,
            "grid_auto_rows": null,
            "grid_column": null,
            "grid_gap": null,
            "grid_row": null,
            "grid_template_areas": null,
            "grid_template_columns": null,
            "grid_template_rows": null,
            "height": null,
            "justify_content": null,
            "justify_items": null,
            "left": null,
            "margin": null,
            "max_height": null,
            "max_width": null,
            "min_height": null,
            "min_width": null,
            "object_fit": null,
            "object_position": null,
            "order": null,
            "overflow": null,
            "overflow_x": null,
            "overflow_y": null,
            "padding": null,
            "right": null,
            "top": null,
            "visibility": null,
            "width": null
          }
        },
        "9fd10131c2cd440a8aaa51d928b2cb93": {
          "model_module": "@jupyter-widgets/base",
          "model_name": "LayoutModel",
          "model_module_version": "1.2.0",
          "state": {
            "_model_module": "@jupyter-widgets/base",
            "_model_module_version": "1.2.0",
            "_model_name": "LayoutModel",
            "_view_count": null,
            "_view_module": "@jupyter-widgets/base",
            "_view_module_version": "1.2.0",
            "_view_name": "LayoutView",
            "align_content": null,
            "align_items": null,
            "align_self": null,
            "border": null,
            "bottom": null,
            "display": null,
            "flex": null,
            "flex_flow": null,
            "grid_area": null,
            "grid_auto_columns": null,
            "grid_auto_flow": null,
            "grid_auto_rows": null,
            "grid_column": null,
            "grid_gap": null,
            "grid_row": null,
            "grid_template_areas": null,
            "grid_template_columns": null,
            "grid_template_rows": null,
            "height": null,
            "justify_content": null,
            "justify_items": null,
            "left": null,
            "margin": null,
            "max_height": null,
            "max_width": null,
            "min_height": null,
            "min_width": null,
            "object_fit": null,
            "object_position": null,
            "order": null,
            "overflow": null,
            "overflow_x": null,
            "overflow_y": null,
            "padding": null,
            "right": null,
            "top": null,
            "visibility": null,
            "width": null
          }
        },
        "3a8abfd5cfcb45bdb10363fe70c9a4e9": {
          "model_module": "@jupyter-widgets/controls",
          "model_name": "DescriptionStyleModel",
          "model_module_version": "1.5.0",
          "state": {
            "_model_module": "@jupyter-widgets/controls",
            "_model_module_version": "1.5.0",
            "_model_name": "DescriptionStyleModel",
            "_view_count": null,
            "_view_module": "@jupyter-widgets/base",
            "_view_module_version": "1.2.0",
            "_view_name": "StyleView",
            "description_width": ""
          }
        },
        "1b0fb648f37f447f9d9b110db7d02479": {
          "model_module": "@jupyter-widgets/base",
          "model_name": "LayoutModel",
          "model_module_version": "1.2.0",
          "state": {
            "_model_module": "@jupyter-widgets/base",
            "_model_module_version": "1.2.0",
            "_model_name": "LayoutModel",
            "_view_count": null,
            "_view_module": "@jupyter-widgets/base",
            "_view_module_version": "1.2.0",
            "_view_name": "LayoutView",
            "align_content": null,
            "align_items": null,
            "align_self": null,
            "border": null,
            "bottom": null,
            "display": null,
            "flex": null,
            "flex_flow": null,
            "grid_area": null,
            "grid_auto_columns": null,
            "grid_auto_flow": null,
            "grid_auto_rows": null,
            "grid_column": null,
            "grid_gap": null,
            "grid_row": null,
            "grid_template_areas": null,
            "grid_template_columns": null,
            "grid_template_rows": null,
            "height": null,
            "justify_content": null,
            "justify_items": null,
            "left": null,
            "margin": null,
            "max_height": null,
            "max_width": null,
            "min_height": null,
            "min_width": null,
            "object_fit": null,
            "object_position": null,
            "order": null,
            "overflow": null,
            "overflow_x": null,
            "overflow_y": null,
            "padding": null,
            "right": null,
            "top": null,
            "visibility": null,
            "width": null
          }
        },
        "988d35d6c1774aa8903687b8496ca396": {
          "model_module": "@jupyter-widgets/controls",
          "model_name": "ProgressStyleModel",
          "model_module_version": "1.5.0",
          "state": {
            "_model_module": "@jupyter-widgets/controls",
            "_model_module_version": "1.5.0",
            "_model_name": "ProgressStyleModel",
            "_view_count": null,
            "_view_module": "@jupyter-widgets/base",
            "_view_module_version": "1.2.0",
            "_view_name": "StyleView",
            "bar_color": null,
            "description_width": ""
          }
        },
        "3e248eb3827b44e29348546bad5e8e68": {
          "model_module": "@jupyter-widgets/base",
          "model_name": "LayoutModel",
          "model_module_version": "1.2.0",
          "state": {
            "_model_module": "@jupyter-widgets/base",
            "_model_module_version": "1.2.0",
            "_model_name": "LayoutModel",
            "_view_count": null,
            "_view_module": "@jupyter-widgets/base",
            "_view_module_version": "1.2.0",
            "_view_name": "LayoutView",
            "align_content": null,
            "align_items": null,
            "align_self": null,
            "border": null,
            "bottom": null,
            "display": null,
            "flex": null,
            "flex_flow": null,
            "grid_area": null,
            "grid_auto_columns": null,
            "grid_auto_flow": null,
            "grid_auto_rows": null,
            "grid_column": null,
            "grid_gap": null,
            "grid_row": null,
            "grid_template_areas": null,
            "grid_template_columns": null,
            "grid_template_rows": null,
            "height": null,
            "justify_content": null,
            "justify_items": null,
            "left": null,
            "margin": null,
            "max_height": null,
            "max_width": null,
            "min_height": null,
            "min_width": null,
            "object_fit": null,
            "object_position": null,
            "order": null,
            "overflow": null,
            "overflow_x": null,
            "overflow_y": null,
            "padding": null,
            "right": null,
            "top": null,
            "visibility": null,
            "width": null
          }
        },
        "e4e90a6cf68a401c897cd6dc564a297f": {
          "model_module": "@jupyter-widgets/controls",
          "model_name": "DescriptionStyleModel",
          "model_module_version": "1.5.0",
          "state": {
            "_model_module": "@jupyter-widgets/controls",
            "_model_module_version": "1.5.0",
            "_model_name": "DescriptionStyleModel",
            "_view_count": null,
            "_view_module": "@jupyter-widgets/base",
            "_view_module_version": "1.2.0",
            "_view_name": "StyleView",
            "description_width": ""
          }
        },
        "ff1107a62f414dfc97e4962ba7c5d0fe": {
          "model_module": "@jupyter-widgets/controls",
          "model_name": "HBoxModel",
          "model_module_version": "1.5.0",
          "state": {
            "_dom_classes": [],
            "_model_module": "@jupyter-widgets/controls",
            "_model_module_version": "1.5.0",
            "_model_name": "HBoxModel",
            "_view_count": null,
            "_view_module": "@jupyter-widgets/controls",
            "_view_module_version": "1.5.0",
            "_view_name": "HBoxView",
            "box_style": "",
            "children": [
              "IPY_MODEL_feafc8fc3db74d3cba5ae016ed19680e",
              "IPY_MODEL_212afa9df93f4bd79092fd6fffe2f814",
              "IPY_MODEL_114441092a3b4909b7bc588be0e89663"
            ],
            "layout": "IPY_MODEL_50619d26b5494c398b76e12fe690d8ec"
          }
        },
        "feafc8fc3db74d3cba5ae016ed19680e": {
          "model_module": "@jupyter-widgets/controls",
          "model_name": "HTMLModel",
          "model_module_version": "1.5.0",
          "state": {
            "_dom_classes": [],
            "_model_module": "@jupyter-widgets/controls",
            "_model_module_version": "1.5.0",
            "_model_name": "HTMLModel",
            "_view_count": null,
            "_view_module": "@jupyter-widgets/controls",
            "_view_module_version": "1.5.0",
            "_view_name": "HTMLView",
            "description": "",
            "description_tooltip": null,
            "layout": "IPY_MODEL_54cf7bb195bb4d7691db0f045ff206e4",
            "placeholder": "​",
            "style": "IPY_MODEL_29831afc240749458b8b36aec84ee017",
            "value": "Generating validation split: 100%"
          }
        },
        "212afa9df93f4bd79092fd6fffe2f814": {
          "model_module": "@jupyter-widgets/controls",
          "model_name": "FloatProgressModel",
          "model_module_version": "1.5.0",
          "state": {
            "_dom_classes": [],
            "_model_module": "@jupyter-widgets/controls",
            "_model_module_version": "1.5.0",
            "_model_name": "FloatProgressModel",
            "_view_count": null,
            "_view_module": "@jupyter-widgets/controls",
            "_view_module_version": "1.5.0",
            "_view_name": "ProgressView",
            "bar_style": "success",
            "description": "",
            "description_tooltip": null,
            "layout": "IPY_MODEL_1566aaa446d6437daf83724adcf365d2",
            "max": 890,
            "min": 0,
            "orientation": "horizontal",
            "style": "IPY_MODEL_36a53d2d0d2a487a8ccfe3bcd71e1424",
            "value": 890
          }
        },
        "114441092a3b4909b7bc588be0e89663": {
          "model_module": "@jupyter-widgets/controls",
          "model_name": "HTMLModel",
          "model_module_version": "1.5.0",
          "state": {
            "_dom_classes": [],
            "_model_module": "@jupyter-widgets/controls",
            "_model_module_version": "1.5.0",
            "_model_name": "HTMLModel",
            "_view_count": null,
            "_view_module": "@jupyter-widgets/controls",
            "_view_module_version": "1.5.0",
            "_view_name": "HTMLView",
            "description": "",
            "description_tooltip": null,
            "layout": "IPY_MODEL_bd056b1e65b742989c7e68d5bfc9bc64",
            "placeholder": "​",
            "style": "IPY_MODEL_da667a10127c4481a5a057710c2066f0",
            "value": " 890/890 [00:00&lt;00:00, 21895.82 examples/s]"
          }
        },
        "50619d26b5494c398b76e12fe690d8ec": {
          "model_module": "@jupyter-widgets/base",
          "model_name": "LayoutModel",
          "model_module_version": "1.2.0",
          "state": {
            "_model_module": "@jupyter-widgets/base",
            "_model_module_version": "1.2.0",
            "_model_name": "LayoutModel",
            "_view_count": null,
            "_view_module": "@jupyter-widgets/base",
            "_view_module_version": "1.2.0",
            "_view_name": "LayoutView",
            "align_content": null,
            "align_items": null,
            "align_self": null,
            "border": null,
            "bottom": null,
            "display": null,
            "flex": null,
            "flex_flow": null,
            "grid_area": null,
            "grid_auto_columns": null,
            "grid_auto_flow": null,
            "grid_auto_rows": null,
            "grid_column": null,
            "grid_gap": null,
            "grid_row": null,
            "grid_template_areas": null,
            "grid_template_columns": null,
            "grid_template_rows": null,
            "height": null,
            "justify_content": null,
            "justify_items": null,
            "left": null,
            "margin": null,
            "max_height": null,
            "max_width": null,
            "min_height": null,
            "min_width": null,
            "object_fit": null,
            "object_position": null,
            "order": null,
            "overflow": null,
            "overflow_x": null,
            "overflow_y": null,
            "padding": null,
            "right": null,
            "top": null,
            "visibility": null,
            "width": null
          }
        },
        "54cf7bb195bb4d7691db0f045ff206e4": {
          "model_module": "@jupyter-widgets/base",
          "model_name": "LayoutModel",
          "model_module_version": "1.2.0",
          "state": {
            "_model_module": "@jupyter-widgets/base",
            "_model_module_version": "1.2.0",
            "_model_name": "LayoutModel",
            "_view_count": null,
            "_view_module": "@jupyter-widgets/base",
            "_view_module_version": "1.2.0",
            "_view_name": "LayoutView",
            "align_content": null,
            "align_items": null,
            "align_self": null,
            "border": null,
            "bottom": null,
            "display": null,
            "flex": null,
            "flex_flow": null,
            "grid_area": null,
            "grid_auto_columns": null,
            "grid_auto_flow": null,
            "grid_auto_rows": null,
            "grid_column": null,
            "grid_gap": null,
            "grid_row": null,
            "grid_template_areas": null,
            "grid_template_columns": null,
            "grid_template_rows": null,
            "height": null,
            "justify_content": null,
            "justify_items": null,
            "left": null,
            "margin": null,
            "max_height": null,
            "max_width": null,
            "min_height": null,
            "min_width": null,
            "object_fit": null,
            "object_position": null,
            "order": null,
            "overflow": null,
            "overflow_x": null,
            "overflow_y": null,
            "padding": null,
            "right": null,
            "top": null,
            "visibility": null,
            "width": null
          }
        },
        "29831afc240749458b8b36aec84ee017": {
          "model_module": "@jupyter-widgets/controls",
          "model_name": "DescriptionStyleModel",
          "model_module_version": "1.5.0",
          "state": {
            "_model_module": "@jupyter-widgets/controls",
            "_model_module_version": "1.5.0",
            "_model_name": "DescriptionStyleModel",
            "_view_count": null,
            "_view_module": "@jupyter-widgets/base",
            "_view_module_version": "1.2.0",
            "_view_name": "StyleView",
            "description_width": ""
          }
        },
        "1566aaa446d6437daf83724adcf365d2": {
          "model_module": "@jupyter-widgets/base",
          "model_name": "LayoutModel",
          "model_module_version": "1.2.0",
          "state": {
            "_model_module": "@jupyter-widgets/base",
            "_model_module_version": "1.2.0",
            "_model_name": "LayoutModel",
            "_view_count": null,
            "_view_module": "@jupyter-widgets/base",
            "_view_module_version": "1.2.0",
            "_view_name": "LayoutView",
            "align_content": null,
            "align_items": null,
            "align_self": null,
            "border": null,
            "bottom": null,
            "display": null,
            "flex": null,
            "flex_flow": null,
            "grid_area": null,
            "grid_auto_columns": null,
            "grid_auto_flow": null,
            "grid_auto_rows": null,
            "grid_column": null,
            "grid_gap": null,
            "grid_row": null,
            "grid_template_areas": null,
            "grid_template_columns": null,
            "grid_template_rows": null,
            "height": null,
            "justify_content": null,
            "justify_items": null,
            "left": null,
            "margin": null,
            "max_height": null,
            "max_width": null,
            "min_height": null,
            "min_width": null,
            "object_fit": null,
            "object_position": null,
            "order": null,
            "overflow": null,
            "overflow_x": null,
            "overflow_y": null,
            "padding": null,
            "right": null,
            "top": null,
            "visibility": null,
            "width": null
          }
        },
        "36a53d2d0d2a487a8ccfe3bcd71e1424": {
          "model_module": "@jupyter-widgets/controls",
          "model_name": "ProgressStyleModel",
          "model_module_version": "1.5.0",
          "state": {
            "_model_module": "@jupyter-widgets/controls",
            "_model_module_version": "1.5.0",
            "_model_name": "ProgressStyleModel",
            "_view_count": null,
            "_view_module": "@jupyter-widgets/base",
            "_view_module_version": "1.2.0",
            "_view_name": "StyleView",
            "bar_color": null,
            "description_width": ""
          }
        },
        "bd056b1e65b742989c7e68d5bfc9bc64": {
          "model_module": "@jupyter-widgets/base",
          "model_name": "LayoutModel",
          "model_module_version": "1.2.0",
          "state": {
            "_model_module": "@jupyter-widgets/base",
            "_model_module_version": "1.2.0",
            "_model_name": "LayoutModel",
            "_view_count": null,
            "_view_module": "@jupyter-widgets/base",
            "_view_module_version": "1.2.0",
            "_view_name": "LayoutView",
            "align_content": null,
            "align_items": null,
            "align_self": null,
            "border": null,
            "bottom": null,
            "display": null,
            "flex": null,
            "flex_flow": null,
            "grid_area": null,
            "grid_auto_columns": null,
            "grid_auto_flow": null,
            "grid_auto_rows": null,
            "grid_column": null,
            "grid_gap": null,
            "grid_row": null,
            "grid_template_areas": null,
            "grid_template_columns": null,
            "grid_template_rows": null,
            "height": null,
            "justify_content": null,
            "justify_items": null,
            "left": null,
            "margin": null,
            "max_height": null,
            "max_width": null,
            "min_height": null,
            "min_width": null,
            "object_fit": null,
            "object_position": null,
            "order": null,
            "overflow": null,
            "overflow_x": null,
            "overflow_y": null,
            "padding": null,
            "right": null,
            "top": null,
            "visibility": null,
            "width": null
          }
        },
        "da667a10127c4481a5a057710c2066f0": {
          "model_module": "@jupyter-widgets/controls",
          "model_name": "DescriptionStyleModel",
          "model_module_version": "1.5.0",
          "state": {
            "_model_module": "@jupyter-widgets/controls",
            "_model_module_version": "1.5.0",
            "_model_name": "DescriptionStyleModel",
            "_view_count": null,
            "_view_module": "@jupyter-widgets/base",
            "_view_module_version": "1.2.0",
            "_view_name": "StyleView",
            "description_width": ""
          }
        }
      }
    }
  },
  "cells": [
    {
      "cell_type": "code",
      "source": [
        "%%capture\n",
        "!pip install datasets\n",
        "!pip install tokenizers\n",
        "!pip install mlflow"
      ],
      "metadata": {
        "id": "8_yOzSyoJCSF"
      },
      "execution_count": 1,
      "outputs": []
    },
    {
      "cell_type": "code",
      "execution_count": 2,
      "metadata": {
        "id": "rcg8iQBjIlBI"
      },
      "outputs": [],
      "source": [
        "from pathlib import Path\n",
        "import torch\n",
        "import torch.nn as nn\n",
        "import torch.nn.functional as F\n",
        "from torch.utils.data import Dataset, DataLoader\n",
        "from datasets import load_dataset\n",
        "from tqdm import tqdm\n",
        "import math\n",
        "import mlflow\n",
        "import mlflow.pytorch\n",
        "\n",
        "from tokenizers import Tokenizer\n",
        "from tokenizers.models import WordLevel\n",
        "from tokenizers.trainers import WordLevelTrainer\n",
        "from tokenizers.pre_tokenizers import Whitespace"
      ]
    },
    {
      "cell_type": "code",
      "source": [
        "config = {\n",
        "    'datasource': 'iwslt2017',\n",
        "    'input_lang': 'en',\n",
        "    'output_lang': 'fr',\n",
        "    'tokenizer_file': 'tokenizer_{0}.json',\n",
        "    'seq_len': 150,\n",
        "    'batch_size': 64,\n",
        "    'embed_size': 512,\n",
        "    'dropout': 0.1,\n",
        "    'num_heads': 8,\n",
        "    'hidden_size': 2048,\n",
        "    'num_layers': 6,\n",
        "    'num_epochs': 10,\n",
        "    'learning_rate': 3e-4,\n",
        "    'model_folder': 'model',\n",
        "    'model_filename': '',\n",
        "    'preload': 'latest',\n",
        "    'model_basename': 'lang2lang',\n",
        "}"
      ],
      "metadata": {
        "id": "Q0TWBbz6PZwa"
      },
      "execution_count": 3,
      "outputs": []
    },
    {
      "cell_type": "markdown",
      "source": [
        "# Import and configure dataset"
      ],
      "metadata": {
        "id": "4w9W7EWDI9Lw"
      }
    },
    {
      "cell_type": "code",
      "source": [
        "dataset = load_dataset(config['datasource'], config['datasource']+'-'+config['input_lang']+'-'+config['output_lang'])"
      ],
      "metadata": {
        "colab": {
          "base_uri": "https://localhost:8080/",
          "height": 209,
          "referenced_widgets": [
            "95bd9af0c519491696cb2ee8a47bd52f",
            "090c53f1a6b246c4b27ce03fcc8eac4e",
            "dd9e3d0344374d3c994136f9286940ab",
            "50b123fbf52446e8a6406f881e8b80c4",
            "6afbd94acf5c4b0ea3d2fbb9a71e2296",
            "5bc17d78dedf4c24bcff95fa14f733de",
            "4eac13093b67455ca0acfaef24648f58",
            "3397814142c3446f88a5e5aa64302810",
            "5e87bd1cad5842e6ac95a3ee8d526624",
            "fc88ca0d3c88414393a1521f264370b0",
            "6bb3e988f11d446aa94d7fbe63288f45",
            "6b0f9ea227a448159d5094e99a9cf3c4",
            "9374736829144e0e80f58c5f0e26611b",
            "f1845d39a6444b0c848152354c56eaf1",
            "c25632edc3554c7689e852f832795f62",
            "8868aeac9cb34471a263780b3f5403a0",
            "49f760dd5fe4409da9e0a16fe0768b83",
            "4a589ed625bf4ae1987c70e05951fff1",
            "4ea95201e7674023a8659a552b1859fa",
            "adf9f285e35e492c9a268f386166043b",
            "5d83272b4b044f44b8a66dddcc2a11c1",
            "365a1b8227af481bbf74fac305553e70",
            "e1218c9644374b4b8cf9ec3a0e406449",
            "a54debff5fb04ad392581c8100934f39",
            "99ec8b1c149843fa8b5f39c5ac457dba",
            "d05d3a45d29c4f94aaeb7b1ed55e2ed2",
            "141e3c8e4e5b449e9c075b6a59c80b4d",
            "0ce9048c61ba4f94ac2a842354c7857c",
            "23f9458ac64b401ca60674d51733666b",
            "797f599c9bf94a74bcee4cf835e9e845",
            "64b4074a61024d49b60b01c05500ed92",
            "96d3040f66614f2dab3214e7d82a137d",
            "2cfa2e9961fb40dbb0f0def04d14c1c2",
            "9ab90b5da2c84a10a2838c3a23d752e7",
            "a2f7571b35d343169ef4b4e6146eff00",
            "0ef2689c256246d29295e1bb81de5929",
            "c61e477016d54ca9930beb976f6a4883",
            "777cdc9387104a5ab5343b2100a684ff",
            "f93e58365023424e898654162fe1ab0e",
            "9fb7ddbb5de645868f6f59031bf0949c",
            "774e17f468554f349be609a5fc46d738",
            "6ec3e11e621c4d939dbae66464135360",
            "cd7924dcd7fe4784ad6d2e959d6cd967",
            "dbed7f4ce90a43eba3b95e161c8356c9",
            "1504b89586644d7380d08372063fe9ca",
            "f2f33573daa8406ca422e773b29eaef6",
            "c85b8f84a480493cb3669dee7aefca15",
            "d60d450f43c54bea9069cd59103944f2",
            "d99a1b2300274ab5b963935f29587124",
            "9fd10131c2cd440a8aaa51d928b2cb93",
            "3a8abfd5cfcb45bdb10363fe70c9a4e9",
            "1b0fb648f37f447f9d9b110db7d02479",
            "988d35d6c1774aa8903687b8496ca396",
            "3e248eb3827b44e29348546bad5e8e68",
            "e4e90a6cf68a401c897cd6dc564a297f",
            "ff1107a62f414dfc97e4962ba7c5d0fe",
            "feafc8fc3db74d3cba5ae016ed19680e",
            "212afa9df93f4bd79092fd6fffe2f814",
            "114441092a3b4909b7bc588be0e89663",
            "50619d26b5494c398b76e12fe690d8ec",
            "54cf7bb195bb4d7691db0f045ff206e4",
            "29831afc240749458b8b36aec84ee017",
            "1566aaa446d6437daf83724adcf365d2",
            "36a53d2d0d2a487a8ccfe3bcd71e1424",
            "bd056b1e65b742989c7e68d5bfc9bc64",
            "da667a10127c4481a5a057710c2066f0"
          ]
        },
        "id": "5YLk80R_Mlqq",
        "outputId": "c5df55e8-cbdd-4248-bfeb-39e486714a31"
      },
      "execution_count": 4,
      "outputs": [
        {
          "output_type": "display_data",
          "data": {
            "text/plain": [
              "Downloading builder script:   0%|          | 0.00/8.17k [00:00<?, ?B/s]"
            ],
            "application/vnd.jupyter.widget-view+json": {
              "version_major": 2,
              "version_minor": 0,
              "model_id": "95bd9af0c519491696cb2ee8a47bd52f"
            }
          },
          "metadata": {}
        },
        {
          "output_type": "display_data",
          "data": {
            "text/plain": [
              "Downloading readme:   0%|          | 0.00/18.5k [00:00<?, ?B/s]"
            ],
            "application/vnd.jupyter.widget-view+json": {
              "version_major": 2,
              "version_minor": 0,
              "model_id": "6b0f9ea227a448159d5094e99a9cf3c4"
            }
          },
          "metadata": {}
        },
        {
          "output_type": "display_data",
          "data": {
            "text/plain": [
              "Downloading data:   0%|          | 0.00/27.7M [00:00<?, ?B/s]"
            ],
            "application/vnd.jupyter.widget-view+json": {
              "version_major": 2,
              "version_minor": 0,
              "model_id": "e1218c9644374b4b8cf9ec3a0e406449"
            }
          },
          "metadata": {}
        },
        {
          "output_type": "display_data",
          "data": {
            "text/plain": [
              "Generating train split:   0%|          | 0/232825 [00:00<?, ? examples/s]"
            ],
            "application/vnd.jupyter.widget-view+json": {
              "version_major": 2,
              "version_minor": 0,
              "model_id": "9ab90b5da2c84a10a2838c3a23d752e7"
            }
          },
          "metadata": {}
        },
        {
          "output_type": "display_data",
          "data": {
            "text/plain": [
              "Generating test split:   0%|          | 0/8597 [00:00<?, ? examples/s]"
            ],
            "application/vnd.jupyter.widget-view+json": {
              "version_major": 2,
              "version_minor": 0,
              "model_id": "1504b89586644d7380d08372063fe9ca"
            }
          },
          "metadata": {}
        },
        {
          "output_type": "display_data",
          "data": {
            "text/plain": [
              "Generating validation split:   0%|          | 0/890 [00:00<?, ? examples/s]"
            ],
            "application/vnd.jupyter.widget-view+json": {
              "version_major": 2,
              "version_minor": 0,
              "model_id": "ff1107a62f414dfc97e4962ba7c5d0fe"
            }
          },
          "metadata": {}
        }
      ]
    },
    {
      "cell_type": "code",
      "source": [
        "dataset"
      ],
      "metadata": {
        "colab": {
          "base_uri": "https://localhost:8080/"
        },
        "id": "8V2qKRW2NpKT",
        "outputId": "4e04cdcc-e931-4087-db7b-c187e70fd54c"
      },
      "execution_count": 5,
      "outputs": [
        {
          "output_type": "execute_result",
          "data": {
            "text/plain": [
              "DatasetDict({\n",
              "    train: Dataset({\n",
              "        features: ['translation'],\n",
              "        num_rows: 232825\n",
              "    })\n",
              "    test: Dataset({\n",
              "        features: ['translation'],\n",
              "        num_rows: 8597\n",
              "    })\n",
              "    validation: Dataset({\n",
              "        features: ['translation'],\n",
              "        num_rows: 890\n",
              "    })\n",
              "})"
            ]
          },
          "metadata": {},
          "execution_count": 5
        }
      ]
    },
    {
      "cell_type": "code",
      "source": [
        "dataset['train']"
      ],
      "metadata": {
        "colab": {
          "base_uri": "https://localhost:8080/"
        },
        "id": "ztFeMCEgNsu_",
        "outputId": "7626e622-33e2-452c-ec4f-23f2c151c765"
      },
      "execution_count": 6,
      "outputs": [
        {
          "output_type": "execute_result",
          "data": {
            "text/plain": [
              "Dataset({\n",
              "    features: ['translation'],\n",
              "    num_rows: 232825\n",
              "})"
            ]
          },
          "metadata": {},
          "execution_count": 6
        }
      ]
    },
    {
      "cell_type": "code",
      "source": [
        "dataset['train'][0]"
      ],
      "metadata": {
        "colab": {
          "base_uri": "https://localhost:8080/"
        },
        "id": "XQy5YWCVNwWv",
        "outputId": "4f096d11-06d6-4720-86ab-cd10143b633f"
      },
      "execution_count": 7,
      "outputs": [
        {
          "output_type": "execute_result",
          "data": {
            "text/plain": [
              "{'translation': {'en': \"Thank you so much, Chris. And it's truly a great honor to have the opportunity to come to this stage twice; I'm extremely grateful.\",\n",
              "  'fr': \"Merci beaucoup, Chris. C'est vraiment un honneur de pouvoir venir sur cette scène une deuxième fois. Je suis très reconnaissant.\"}}"
            ]
          },
          "metadata": {},
          "execution_count": 7
        }
      ]
    },
    {
      "cell_type": "code",
      "source": [
        "def yield_sample(dataset, lang):\n",
        "    for sample in dataset:\n",
        "        yield sample['translation'][lang]\n",
        "\n",
        "def build_tokenizer(config, dataset, lang):\n",
        "    tokenizer_path = Path(config['tokenizer_file'].format(lang))\n",
        "    if Path.exists(tokenizer_path):\n",
        "        tokenizer = Tokenizer.from_file(str(tokenizer_path))\n",
        "    else:\n",
        "        tokenizer = Tokenizer(WordLevel(unk_token=\"[UNK]\"))\n",
        "        tokenizer.pre_tokenizer = Whitespace()\n",
        "        trainer = WordLevelTrainer(special_tokens=[\"[UNK]\", \"[PAD]\", \"[SOS]\", \"[EOS]\"], min_frequency=2)\n",
        "        tokenizer.train_from_iterator(yield_sample(dataset, lang), trainer=trainer)\n",
        "        tokenizer.save(str(tokenizer_path))\n",
        "    return tokenizer"
      ],
      "metadata": {
        "id": "7st-dI2LN8RD"
      },
      "execution_count": 8,
      "outputs": []
    },
    {
      "cell_type": "code",
      "source": [
        "tokenizer = build_tokenizer(config, dataset['train'], config['input_lang'])"
      ],
      "metadata": {
        "id": "pyMYKynOSn4E"
      },
      "execution_count": 9,
      "outputs": []
    },
    {
      "cell_type": "code",
      "source": [
        "ids = tokenizer.encode(\"Hello world\").ids\n",
        "ids"
      ],
      "metadata": {
        "colab": {
          "base_uri": "https://localhost:8080/"
        },
        "id": "P-VbZkdjTKgk",
        "outputId": "99f52cc9-039e-42b7-d855-29db89a3877d"
      },
      "execution_count": 10,
      "outputs": [
        {
          "output_type": "execute_result",
          "data": {
            "text/plain": [
              "[3574, 94]"
            ]
          },
          "metadata": {},
          "execution_count": 10
        }
      ]
    },
    {
      "cell_type": "code",
      "source": [
        "tokenizer.decode(ids)"
      ],
      "metadata": {
        "colab": {
          "base_uri": "https://localhost:8080/",
          "height": 35
        },
        "id": "MPXRmrgGTlFT",
        "outputId": "353da196-f798-4cb3-fe95-c2a0083fefb2"
      },
      "execution_count": 11,
      "outputs": [
        {
          "output_type": "execute_result",
          "data": {
            "text/plain": [
              "'Hello world'"
            ],
            "application/vnd.google.colaboratory.intrinsic+json": {
              "type": "string"
            }
          },
          "metadata": {},
          "execution_count": 11
        }
      ]
    },
    {
      "cell_type": "code",
      "source": [
        "def find_max_min_seq(dataset):\n",
        "  max_input_length = 0\n",
        "  max_output_length = 0\n",
        "  for sample in dataset:\n",
        "      in_ids = tokenizer.encode(sample['translation'][config['input_lang']]).ids\n",
        "      out_ids = tokenizer.encode(sample['translation'][config['output_lang']]).ids\n",
        "      max_input_length = max(max_input_length, len(in_ids))\n",
        "      max_output_length = max(max_output_length, len(out_ids))\n",
        "\n",
        "  print(\"Max input sequence length: \", max_input_length)\n",
        "  print(\"Max output sequence length: \", max_output_length)\n",
        "\n",
        "find_max_min_seq(dataset['train'])\n",
        "find_max_min_seq(dataset['validation'])"
      ],
      "metadata": {
        "colab": {
          "base_uri": "https://localhost:8080/"
        },
        "id": "yh-ihVz7Vl72",
        "outputId": "70a25564-ff68-4a7d-8544-c95fc87c8f28"
      },
      "execution_count": 12,
      "outputs": [
        {
          "output_type": "stream",
          "name": "stdout",
          "text": [
            "Max input sequence length:  133\n",
            "Max output sequence length:  122\n",
            "Max input sequence length:  90\n",
            "Max output sequence length:  97\n"
          ]
        }
      ]
    },
    {
      "cell_type": "code",
      "source": [
        "class TranslationDataset(Dataset):\n",
        "    def __init__(self, raw_dataset, input_lang, output_lang, input_tokenizer, output_tokenizer, seq_len):\n",
        "        self.raw_dataset = raw_dataset\n",
        "        self.input_lang = input_lang\n",
        "        self.output_lang = output_lang\n",
        "        self.input_tokenizer = input_tokenizer\n",
        "        self.output_tokenizer = output_tokenizer\n",
        "        self.seq_len = seq_len\n",
        "\n",
        "        self.sos_token = torch.tensor([input_tokenizer.token_to_id(\"[SOS]\")], dtype=torch.long)\n",
        "        self.eos_token = torch.tensor([input_tokenizer.token_to_id(\"[EOS]\")], dtype=torch.long)\n",
        "        self.pad_token = torch.tensor([input_tokenizer.token_to_id(\"[PAD]\")], dtype=torch.long)\n",
        "\n",
        "    def __getitem__(self, idx):\n",
        "        sample = self.raw_dataset[idx]\n",
        "        input_ids = self.input_tokenizer.encode(sample['translation'][self.input_lang]).ids\n",
        "        output_ids = self.output_tokenizer.encode(sample['translation'][self.output_lang]).ids\n",
        "\n",
        "        if len(input_ids) > self.seq_len:\n",
        "            input_ids = input_ids[:self.seq_len]\n",
        "\n",
        "        num_of_padding_tokens_input = self.seq_len - len(input_ids) - 2 # -2 for sos and eos\n",
        "        num_of_padding_tokens_output = self.seq_len - len(output_ids) - 1 # -1 for sos\n",
        "\n",
        "        encoder_input = torch.cat(\n",
        "            [\n",
        "                self.sos_token,\n",
        "                torch.tensor(input_ids, dtype=torch.long),\n",
        "                self.eos_token,\n",
        "                torch.tensor([self.pad_token] * num_of_padding_tokens_input, dtype=torch.long),\n",
        "            ],\n",
        "            dim=0,\n",
        "        )\n",
        "\n",
        "        decoder_input = torch.cat(\n",
        "            [\n",
        "                self.sos_token,\n",
        "                torch.tensor(output_ids, dtype=torch.long),\n",
        "                torch.tensor([self.pad_token] * num_of_padding_tokens_output, dtype=torch.long),\n",
        "            ],\n",
        "            dim=0,\n",
        "        )\n",
        "\n",
        "        label = torch.cat(\n",
        "            [\n",
        "                torch.tensor(output_ids, dtype=torch.long),\n",
        "                self.eos_token,\n",
        "                torch.tensor([self.pad_token] * num_of_padding_tokens_output, dtype=torch.long),\n",
        "            ],\n",
        "            dim=0,\n",
        "        )\n",
        "\n",
        "        padding_mask = (encoder_input != self.pad_token).unsqueeze(0).unsqueeze(0).int()\n",
        "        lookahead_mask = (decoder_input != self.pad_token).unsqueeze(0).int() & self.causal_mask(decoder_input.size(0))\n",
        "\n",
        "        return encoder_input, decoder_input, label, padding_mask, lookahead_mask\n",
        "\n",
        "\n",
        "    def __len__(self):\n",
        "        return len(self.raw_dataset)\n",
        "\n",
        "    def causal_mask(self, size):\n",
        "      mask = torch.triu(torch.ones((1, size, size)), diagonal=1).type(torch.int)\n",
        "      return mask == 0"
      ],
      "metadata": {
        "id": "k40AIoRbI84K"
      },
      "execution_count": 13,
      "outputs": []
    },
    {
      "cell_type": "code",
      "source": [
        "data = TranslationDataset(dataset['train'], config['input_lang'], config['output_lang'], tokenizer, tokenizer, config['seq_len'])"
      ],
      "metadata": {
        "id": "9-wKKRx2WXj3"
      },
      "execution_count": 14,
      "outputs": []
    },
    {
      "cell_type": "code",
      "source": [
        "encoder_input, decoder_input, label, padding_mask, lookahead_mask = data[0]"
      ],
      "metadata": {
        "id": "OmxdzwoPcIys"
      },
      "execution_count": 15,
      "outputs": []
    },
    {
      "cell_type": "code",
      "source": [
        "(decoder_input != data.pad_token).unsqueeze(0).int()"
      ],
      "metadata": {
        "colab": {
          "base_uri": "https://localhost:8080/"
        },
        "id": "OxbjgHAdeb4K",
        "outputId": "10b58303-ebea-478e-cde6-bc586f76cf30"
      },
      "execution_count": 16,
      "outputs": [
        {
          "output_type": "execute_result",
          "data": {
            "text/plain": [
              "tensor([[1, 1, 1, 1, 1, 1, 1, 1, 1, 1, 1, 1, 1, 1, 1, 1, 1, 1, 1, 1, 1, 1, 1, 1,\n",
              "         1, 1, 1, 0, 0, 0, 0, 0, 0, 0, 0, 0, 0, 0, 0, 0, 0, 0, 0, 0, 0, 0, 0, 0,\n",
              "         0, 0, 0, 0, 0, 0, 0, 0, 0, 0, 0, 0, 0, 0, 0, 0, 0, 0, 0, 0, 0, 0, 0, 0,\n",
              "         0, 0, 0, 0, 0, 0, 0, 0, 0, 0, 0, 0, 0, 0, 0, 0, 0, 0, 0, 0, 0, 0, 0, 0,\n",
              "         0, 0, 0, 0, 0, 0, 0, 0, 0, 0, 0, 0, 0, 0, 0, 0, 0, 0, 0, 0, 0, 0, 0, 0,\n",
              "         0, 0, 0, 0, 0, 0, 0, 0, 0, 0, 0, 0, 0, 0, 0, 0, 0, 0, 0, 0, 0, 0, 0, 0,\n",
              "         0, 0, 0, 0, 0, 0]], dtype=torch.int32)"
            ]
          },
          "metadata": {},
          "execution_count": 16
        }
      ]
    },
    {
      "cell_type": "code",
      "source": [
        "(torch.tril(torch.ones((1, 150, 150)), diagonal=0) == 1).int()"
      ],
      "metadata": {
        "colab": {
          "base_uri": "https://localhost:8080/"
        },
        "id": "W-beOFpmcJhT",
        "outputId": "8cf6a1a8-f3a8-4ba7-ca95-5499fccfcedb"
      },
      "execution_count": 17,
      "outputs": [
        {
          "output_type": "execute_result",
          "data": {
            "text/plain": [
              "tensor([[[1, 0, 0,  ..., 0, 0, 0],\n",
              "         [1, 1, 0,  ..., 0, 0, 0],\n",
              "         [1, 1, 1,  ..., 0, 0, 0],\n",
              "         ...,\n",
              "         [1, 1, 1,  ..., 1, 0, 0],\n",
              "         [1, 1, 1,  ..., 1, 1, 0],\n",
              "         [1, 1, 1,  ..., 1, 1, 1]]], dtype=torch.int32)"
            ]
          },
          "metadata": {},
          "execution_count": 17
        }
      ]
    },
    {
      "cell_type": "code",
      "source": [
        "(decoder_input != data.pad_token).unsqueeze(0).int() & (torch.tril(torch.ones((1, 150, 150)), diagonal=0) == 1).int()"
      ],
      "metadata": {
        "colab": {
          "base_uri": "https://localhost:8080/"
        },
        "id": "aPgXzDR9dlqO",
        "outputId": "f78eb897-d4d7-4507-d1f4-0211b89e48e3"
      },
      "execution_count": 18,
      "outputs": [
        {
          "output_type": "execute_result",
          "data": {
            "text/plain": [
              "tensor([[[1, 0, 0,  ..., 0, 0, 0],\n",
              "         [1, 1, 0,  ..., 0, 0, 0],\n",
              "         [1, 1, 1,  ..., 0, 0, 0],\n",
              "         ...,\n",
              "         [1, 1, 1,  ..., 0, 0, 0],\n",
              "         [1, 1, 1,  ..., 0, 0, 0],\n",
              "         [1, 1, 1,  ..., 0, 0, 0]]], dtype=torch.int32)"
            ]
          },
          "metadata": {},
          "execution_count": 18
        }
      ]
    },
    {
      "cell_type": "code",
      "source": [
        "decoder_input.shape"
      ],
      "metadata": {
        "colab": {
          "base_uri": "https://localhost:8080/"
        },
        "id": "aD-Und-YiIIR",
        "outputId": "3ea7e9cb-7680-4da8-92b6-b35d5297634d"
      },
      "execution_count": 19,
      "outputs": [
        {
          "output_type": "execute_result",
          "data": {
            "text/plain": [
              "torch.Size([150])"
            ]
          },
          "metadata": {},
          "execution_count": 19
        }
      ]
    },
    {
      "cell_type": "code",
      "source": [
        "lookahead_mask.shape"
      ],
      "metadata": {
        "colab": {
          "base_uri": "https://localhost:8080/"
        },
        "id": "DKeu5ogviDTK",
        "outputId": "89e462d4-e2e5-4e56-d037-1450e2d76d1e"
      },
      "execution_count": 20,
      "outputs": [
        {
          "output_type": "execute_result",
          "data": {
            "text/plain": [
              "torch.Size([1, 150, 150])"
            ]
          },
          "metadata": {},
          "execution_count": 20
        }
      ]
    },
    {
      "cell_type": "code",
      "source": [
        "encoder_input.shape"
      ],
      "metadata": {
        "colab": {
          "base_uri": "https://localhost:8080/"
        },
        "id": "n10ORw8cij3N",
        "outputId": "3f9f6c80-4265-4216-8b36-b6cb21ce7dbc"
      },
      "execution_count": 21,
      "outputs": [
        {
          "output_type": "execute_result",
          "data": {
            "text/plain": [
              "torch.Size([150])"
            ]
          },
          "metadata": {},
          "execution_count": 21
        }
      ]
    },
    {
      "cell_type": "code",
      "source": [
        "padding_mask.shape"
      ],
      "metadata": {
        "colab": {
          "base_uri": "https://localhost:8080/"
        },
        "id": "uNosji8ChN0o",
        "outputId": "259a6177-0f61-4f1a-bda7-93580d629c8c"
      },
      "execution_count": 22,
      "outputs": [
        {
          "output_type": "execute_result",
          "data": {
            "text/plain": [
              "torch.Size([1, 1, 150])"
            ]
          },
          "metadata": {},
          "execution_count": 22
        }
      ]
    },
    {
      "cell_type": "code",
      "source": [
        "def build_dataloader_and_tokenizers(config):\n",
        "    raw_dataset = load_dataset(config['datasource'], config['datasource']+'-'+config['input_lang']+'-'+config['output_lang'])\n",
        "\n",
        "    input_tokenizer = build_tokenizer(config, raw_dataset['train'], config['input_lang'])\n",
        "    output_tokenizer = build_tokenizer(config, raw_dataset['train'], config['output_lang'])\n",
        "\n",
        "    train = TranslationDataset(raw_dataset['train'], config['input_lang'], config['output_lang'], input_tokenizer, output_tokenizer, config['seq_len'])\n",
        "    validation = TranslationDataset(raw_dataset['validation'], config['input_lang'], config['output_lang'], input_tokenizer, output_tokenizer, config['seq_len'])\n",
        "\n",
        "    train_dataloader = DataLoader(train, batch_size=config['batch_size'], shuffle=True)\n",
        "    val_dataloader = DataLoader(validation, batch_size=config['batch_size'], shuffle=True)\n",
        "\n",
        "    return train_dataloader, val_dataloader, input_tokenizer, output_tokenizer"
      ],
      "metadata": {
        "id": "BnEoXhaqkMdQ"
      },
      "execution_count": 23,
      "outputs": []
    },
    {
      "cell_type": "code",
      "source": [
        "train_dataloader, val_dataloader, input_tokenizer, output_tokenizer = build_dataloader_and_tokenizers(config)"
      ],
      "metadata": {
        "id": "yOfMnmhBlzcA"
      },
      "execution_count": 24,
      "outputs": []
    },
    {
      "cell_type": "code",
      "source": [
        "encoder_input, decoder_input, label, padding_mask, lookahead_mask = train_dataloader.__iter__().__next__()"
      ],
      "metadata": {
        "id": "yCKvfL46pAT5"
      },
      "execution_count": 25,
      "outputs": []
    },
    {
      "cell_type": "code",
      "source": [
        "encoder_input.shape # (batch_size, seq_len)"
      ],
      "metadata": {
        "colab": {
          "base_uri": "https://localhost:8080/"
        },
        "id": "IyK0O9fppZsD",
        "outputId": "4644adfa-18b4-444e-e02f-77962db7c45c"
      },
      "execution_count": 26,
      "outputs": [
        {
          "output_type": "execute_result",
          "data": {
            "text/plain": [
              "torch.Size([64, 150])"
            ]
          },
          "metadata": {},
          "execution_count": 26
        }
      ]
    },
    {
      "cell_type": "code",
      "source": [
        "decoder_input.shape # (batch_size, seq_len)"
      ],
      "metadata": {
        "colab": {
          "base_uri": "https://localhost:8080/"
        },
        "id": "iASrgE5zpme7",
        "outputId": "ee71be90-ee8a-42ae-fe25-08ab7c5c45eb"
      },
      "execution_count": 27,
      "outputs": [
        {
          "output_type": "execute_result",
          "data": {
            "text/plain": [
              "torch.Size([64, 150])"
            ]
          },
          "metadata": {},
          "execution_count": 27
        }
      ]
    },
    {
      "cell_type": "code",
      "source": [
        "label.shape"
      ],
      "metadata": {
        "colab": {
          "base_uri": "https://localhost:8080/"
        },
        "id": "kIzmrKh5prDJ",
        "outputId": "92775728-fa20-4b16-c5d9-2fdbc090e527"
      },
      "execution_count": 28,
      "outputs": [
        {
          "output_type": "execute_result",
          "data": {
            "text/plain": [
              "torch.Size([64, 150])"
            ]
          },
          "metadata": {},
          "execution_count": 28
        }
      ]
    },
    {
      "cell_type": "code",
      "source": [
        "padding_mask.shape"
      ],
      "metadata": {
        "colab": {
          "base_uri": "https://localhost:8080/"
        },
        "id": "dnQ_SkgvqKLS",
        "outputId": "bb0dfee2-74eb-4330-9a6f-3c2f4af23bd6"
      },
      "execution_count": 29,
      "outputs": [
        {
          "output_type": "execute_result",
          "data": {
            "text/plain": [
              "torch.Size([64, 1, 1, 150])"
            ]
          },
          "metadata": {},
          "execution_count": 29
        }
      ]
    },
    {
      "cell_type": "code",
      "source": [
        "lookahead_mask.shape"
      ],
      "metadata": {
        "colab": {
          "base_uri": "https://localhost:8080/"
        },
        "id": "JT8LzG9mqLj6",
        "outputId": "5241ea8f-6251-44c5-d40a-41d34c1f614b"
      },
      "execution_count": 30,
      "outputs": [
        {
          "output_type": "execute_result",
          "data": {
            "text/plain": [
              "torch.Size([64, 1, 150, 150])"
            ]
          },
          "metadata": {},
          "execution_count": 30
        }
      ]
    },
    {
      "cell_type": "markdown",
      "source": [
        "# Build model"
      ],
      "metadata": {
        "id": "BY9ydcNLEZ2p"
      }
    },
    {
      "cell_type": "code",
      "source": [
        "train_dataloader, val_dataloader, input_tokenizer, output_tokenizer = build_dataloader_and_tokenizers(config)\n",
        "encoder_input, decoder_input, label, padding_mask, lookahead_mask = train_dataloader.__iter__().__next__()"
      ],
      "metadata": {
        "id": "ws_6YDN0Em-f"
      },
      "execution_count": 31,
      "outputs": []
    },
    {
      "cell_type": "code",
      "source": [
        "input_vocab_size = input_tokenizer.get_vocab_size()\n",
        "output_vocab_size = output_tokenizer.get_vocab_size()"
      ],
      "metadata": {
        "id": "3-4V9HC6PF-b"
      },
      "execution_count": 32,
      "outputs": []
    },
    {
      "cell_type": "code",
      "source": [
        "class InputEmbeddings(nn.Module):\n",
        "    def __init__(self, vocab_size, embed_size):\n",
        "        super().__init__()\n",
        "        self.embed_size = embed_size\n",
        "        self.embedding = nn.Embedding(vocab_size, embed_size)\n",
        "\n",
        "    def forward(self, x):\n",
        "        # (batch, seq_len) --> (batch, seq_len, embed_size)\n",
        "        return self.embedding(x) * math.sqrt(self.embed_size)"
      ],
      "metadata": {
        "id": "O2ThLhMtPs2r"
      },
      "execution_count": 33,
      "outputs": []
    },
    {
      "cell_type": "code",
      "source": [
        "embeds = InputEmbeddings(input_vocab_size, config['embed_size'])\n",
        "x = embeds(encoder_input)"
      ],
      "metadata": {
        "id": "UiMPkfE_Tur_"
      },
      "execution_count": 34,
      "outputs": []
    },
    {
      "cell_type": "code",
      "source": [
        "x.shape"
      ],
      "metadata": {
        "colab": {
          "base_uri": "https://localhost:8080/"
        },
        "id": "iywlGTcwHcuO",
        "outputId": "5ff8b89e-656e-4611-da32-00d3a0477394"
      },
      "execution_count": 35,
      "outputs": [
        {
          "output_type": "execute_result",
          "data": {
            "text/plain": [
              "torch.Size([64, 150, 512])"
            ]
          },
          "metadata": {},
          "execution_count": 35
        }
      ]
    },
    {
      "cell_type": "code",
      "source": [
        "class PositionalEncoding(nn.Module):\n",
        "    def __init__(self, embed_size, seq_len, dropout):\n",
        "        super().__init__()\n",
        "        self.dropout = nn.Dropout(dropout)\n",
        "\n",
        "        position = torch.arange(seq_len).unsqueeze(1) # (seq_len, 1)\n",
        "        div_term = torch.exp(torch.arange(0, embed_size, 2) * (-math.log(10000.0) / embed_size)) # (embed_size / 2)\n",
        "        pe = torch.zeros(1, seq_len, embed_size) # (1, seq_len, embed_size)\n",
        "\n",
        "        pe[0, :, 0::2] = torch.sin(position * div_term)\n",
        "        pe[0, :, 1::2] = torch.cos(position * div_term)\n",
        "        self.register_buffer('pe', pe)\n",
        "\n",
        "    def forward(self, x):\n",
        "        # (batch, seq_len, embed_size)\n",
        "        x = x + self.pe[:, :x.size(1), :]\n",
        "        return self.dropout(x)"
      ],
      "metadata": {
        "id": "Is8ovAaAHdfR"
      },
      "execution_count": 36,
      "outputs": []
    },
    {
      "cell_type": "code",
      "source": [
        "pos_embeds = PositionalEncoding(config['embed_size'], config['seq_len'], config['dropout'])\n",
        "x = pos_embeds(x)"
      ],
      "metadata": {
        "id": "pqDvTGpoHgzN"
      },
      "execution_count": 37,
      "outputs": []
    },
    {
      "cell_type": "code",
      "source": [
        "x.shape # (batch_size, seq_len, embed_size)"
      ],
      "metadata": {
        "colab": {
          "base_uri": "https://localhost:8080/"
        },
        "id": "UI9oCsaVMsWw",
        "outputId": "c172a939-edf0-40f2-949a-dc09a825c2f3"
      },
      "execution_count": 38,
      "outputs": [
        {
          "output_type": "execute_result",
          "data": {
            "text/plain": [
              "torch.Size([64, 150, 512])"
            ]
          },
          "metadata": {},
          "execution_count": 38
        }
      ]
    },
    {
      "cell_type": "code",
      "source": [
        "class MultiHeadAttention(nn.Module):\n",
        "    def __init__(self, embed_size, num_heads, dropout):\n",
        "        super().__init__()\n",
        "        self.embed_size = embed_size\n",
        "        self.num_heads = num_heads\n",
        "        self.dropout = nn.Dropout(dropout)\n",
        "\n",
        "        self.Wq = nn.Linear(embed_size, embed_size)\n",
        "        self.Wk = nn.Linear(embed_size, embed_size)\n",
        "        self.Wv = nn.Linear(embed_size, embed_size)\n",
        "        self.Wo = nn.Linear(embed_size, embed_size)\n",
        "\n",
        "        self.head_size = embed_size // num_heads\n",
        "\n",
        "    def attention(self, q, k, v, mask):\n",
        "        # q @ k then scale\n",
        "        # (batch, num_heads, seq_len, head_size) --> (batch, num_heads, seq_len, seq_len)\n",
        "        attention = torch.matmul(q, k.transpose(-2, -1)) / math.sqrt(self.head_size)\n",
        "\n",
        "        if mask is not None:\n",
        "            attention = attention.masked_fill(mask == 0, -1e10)\n",
        "\n",
        "        attention = F.softmax(attention, dim=-1)\n",
        "\n",
        "        # (batch, num_heads, seq_len, seq_len) @ (batch, num_heads, seq_len, head_size) --> (batch, num_heads, seq_len, head_size)\n",
        "        return self.dropout(attention @ v)\n",
        "\n",
        "    def forward(self, q, k, v, mask):\n",
        "        # (batch, seq_len, embed_size) --> (batch, seq_len, embed_size)\n",
        "        q = self.Wq(q)\n",
        "        k = self.Wk(k)\n",
        "        v = self.Wv(v)\n",
        "\n",
        "        # (batch, seq_len, embed_size) --> (batch, seq_len, num_heads, head_size) --> (batch, num_heads, seq_len, head_size)\n",
        "        q = q.reshape(q.shape[0], q.shape[1], self.num_heads, self.head_size).transpose(1, 2)\n",
        "        k = k.reshape(k.shape[0], k.shape[1], self.num_heads, self.head_size).transpose(1, 2)\n",
        "        v = v.reshape(v.shape[0], v.shape[1], self.num_heads, self.head_size).transpose(1, 2)\n",
        "\n",
        "        # (batch, num_heads, seq_len, head_size)\n",
        "        x = self.attention(q, k, v, mask)\n",
        "\n",
        "        # (batch, num_heads, seq_len, head_size) --> (batch, seq_len, embed_size)\n",
        "        x = x.transpose(1, 2).contiguous().reshape(x.shape[0], x.shape[2], self.head_size*self.num_heads)\n",
        "\n",
        "        return self.Wo(x)"
      ],
      "metadata": {
        "id": "cwkzK8eNMzsl"
      },
      "execution_count": 39,
      "outputs": []
    },
    {
      "cell_type": "code",
      "source": [
        "multi_head_attention = MultiHeadAttention(config['embed_size'], config['num_heads'], config['dropout'])\n",
        "x = multi_head_attention(x, x, x, padding_mask)"
      ],
      "metadata": {
        "id": "a_Lz-YwDWOUg"
      },
      "execution_count": 40,
      "outputs": []
    },
    {
      "cell_type": "code",
      "source": [
        "x.shape"
      ],
      "metadata": {
        "colab": {
          "base_uri": "https://localhost:8080/"
        },
        "id": "Pk_xtn2qWnD0",
        "outputId": "f4125004-7971-4498-ac1a-c1724c2534e7"
      },
      "execution_count": 41,
      "outputs": [
        {
          "output_type": "execute_result",
          "data": {
            "text/plain": [
              "torch.Size([64, 150, 512])"
            ]
          },
          "metadata": {},
          "execution_count": 41
        }
      ]
    },
    {
      "cell_type": "code",
      "source": [
        "layer_norm = nn.LayerNorm(config['embed_size'])\n",
        "x = layer_norm(x)"
      ],
      "metadata": {
        "id": "4ptk7wcoYmnh"
      },
      "execution_count": 42,
      "outputs": []
    },
    {
      "cell_type": "code",
      "source": [
        "x.shape"
      ],
      "metadata": {
        "colab": {
          "base_uri": "https://localhost:8080/"
        },
        "id": "ERXzMup5YzhF",
        "outputId": "61426420-e090-465a-b3b9-492c69e94711"
      },
      "execution_count": 43,
      "outputs": [
        {
          "output_type": "execute_result",
          "data": {
            "text/plain": [
              "torch.Size([64, 150, 512])"
            ]
          },
          "metadata": {},
          "execution_count": 43
        }
      ]
    },
    {
      "cell_type": "code",
      "source": [
        "class FeedForwardBlock(nn.Module):\n",
        "    def __init__(self, embed_size, hidden_size, dropout):\n",
        "        super().__init__()\n",
        "        self.lin_1 = nn.Linear(embed_size, hidden_size)\n",
        "        self.lin_2 = nn.Linear(hidden_size, embed_size)\n",
        "        self.dropout = nn.Dropout(dropout)\n",
        "\n",
        "    def forward(self, x):\n",
        "        return self.lin_2(self.dropout(torch.relu(self.lin_1(x))))"
      ],
      "metadata": {
        "id": "ObxbsZmKW_uX"
      },
      "execution_count": 44,
      "outputs": []
    },
    {
      "cell_type": "code",
      "source": [
        "ffn = FeedForwardBlock(config['embed_size'], config['hidden_size'], config['dropout'])\n",
        "x = ffn(x)"
      ],
      "metadata": {
        "id": "OQKMNHdQYwfT"
      },
      "execution_count": 45,
      "outputs": []
    },
    {
      "cell_type": "code",
      "source": [
        "x.shape"
      ],
      "metadata": {
        "colab": {
          "base_uri": "https://localhost:8080/"
        },
        "id": "xTcbr2-RY9Ri",
        "outputId": "67cacc9d-81f2-44db-9699-0a56d8214414"
      },
      "execution_count": 46,
      "outputs": [
        {
          "output_type": "execute_result",
          "data": {
            "text/plain": [
              "torch.Size([64, 150, 512])"
            ]
          },
          "metadata": {},
          "execution_count": 46
        }
      ]
    },
    {
      "cell_type": "code",
      "source": [
        "class EncoderLayer(nn.Module):\n",
        "    def __init__(self, embed_size, num_heads, hidden_size, dropout):\n",
        "        super().__init__()\n",
        "        self.multi_head_attention = MultiHeadAttention(embed_size, num_heads, dropout)\n",
        "        self.feed_forward = FeedForwardBlock(embed_size, hidden_size, dropout)\n",
        "        self.layer_norm = nn.ModuleList([nn.LayerNorm(embed_size) for _ in range(2)])\n",
        "\n",
        "    def forward(self, x, mask):\n",
        "        x = self.layer_norm[0](x + self.multi_head_attention(x, x, x, mask))\n",
        "        x = self.layer_norm[1](x + self.feed_forward(x))\n",
        "        return x"
      ],
      "metadata": {
        "id": "TYz0nM9sY97b"
      },
      "execution_count": 47,
      "outputs": []
    },
    {
      "cell_type": "code",
      "source": [
        "encoder_layer = EncoderLayer(config['embed_size'], config['num_heads'], config['hidden_size'], config['dropout'])\n",
        "x = encoder_layer(x, padding_mask)"
      ],
      "metadata": {
        "id": "O4xZyTwuaZAV"
      },
      "execution_count": 48,
      "outputs": []
    },
    {
      "cell_type": "code",
      "source": [
        "x.shape"
      ],
      "metadata": {
        "colab": {
          "base_uri": "https://localhost:8080/"
        },
        "id": "TqAdYYiIack-",
        "outputId": "faad91d3-c3a4-4911-e9e4-86f444de513e"
      },
      "execution_count": 49,
      "outputs": [
        {
          "output_type": "execute_result",
          "data": {
            "text/plain": [
              "torch.Size([64, 150, 512])"
            ]
          },
          "metadata": {},
          "execution_count": 49
        }
      ]
    },
    {
      "cell_type": "code",
      "source": [
        "class DecoderLayer(nn.Module):\n",
        "    def __init__(self, embed_size, num_heads, hidden_size, dropout):\n",
        "        super().__init__()\n",
        "        self.masked_multi_head_attention = MultiHeadAttention(embed_size, num_heads, dropout)\n",
        "        self.multi_head_attention = MultiHeadAttention(embed_size, num_heads, dropout)\n",
        "        self.feed_forward = FeedForwardBlock(embed_size, hidden_size, dropout)\n",
        "        self.layer_norm = nn.ModuleList([nn.LayerNorm(embed_size) for _ in range(3)])\n",
        "\n",
        "    def forward(self, x, encoder_output, padding_mask, lookahead_mask):\n",
        "        x = self.layer_norm[0](x + self.masked_multi_head_attention(x, x, x, lookahead_mask))\n",
        "        x = self.layer_norm[1](x + self.multi_head_attention(x, encoder_output, encoder_output, padding_mask))\n",
        "        x = self.layer_norm[2](x + self.feed_forward(x))\n",
        "        return x\n"
      ],
      "metadata": {
        "id": "UTwr5M37afJH"
      },
      "execution_count": 50,
      "outputs": []
    },
    {
      "cell_type": "code",
      "source": [
        "decoder_layer = DecoderLayer(config['embed_size'], config['num_heads'], config['hidden_size'], config['dropout'])\n",
        "x = decoder_layer(x, x, padding_mask, lookahead_mask)"
      ],
      "metadata": {
        "id": "8YS8QIuic-IU"
      },
      "execution_count": 51,
      "outputs": []
    },
    {
      "cell_type": "code",
      "source": [
        "x.shape"
      ],
      "metadata": {
        "colab": {
          "base_uri": "https://localhost:8080/"
        },
        "id": "Z9_7U4NXdCuO",
        "outputId": "d5fc31f2-cc9a-4a52-a8cd-6fae56b932a6"
      },
      "execution_count": 52,
      "outputs": [
        {
          "output_type": "execute_result",
          "data": {
            "text/plain": [
              "torch.Size([64, 150, 512])"
            ]
          },
          "metadata": {},
          "execution_count": 52
        }
      ]
    },
    {
      "cell_type": "code",
      "source": [
        "class Transformer(nn.Module):\n",
        "    def __init__(self, input_vocab_size, output_vocab_size, embed_size, seq_len, num_heads, hidden_size, dropout, num_layers):\n",
        "        super().__init__()\n",
        "        self.input_embedding = nn.Embedding(input_vocab_size, embed_size)\n",
        "        self.output_embedding = nn.Embedding(output_vocab_size, embed_size)\n",
        "        self.input_positional_encoding = PositionalEncoding(embed_size, seq_len, dropout)\n",
        "        self.output_positional_encoding = PositionalEncoding(embed_size, seq_len, dropout)\n",
        "        self.encoder = nn.ModuleList([EncoderLayer(embed_size, num_heads, hidden_size, dropout) for _ in range(num_layers)])\n",
        "        self.decoder = nn.ModuleList([DecoderLayer(embed_size, num_heads, hidden_size, dropout) for _ in range(num_layers)])\n",
        "        self.linear = nn.Linear(embed_size, output_vocab_size)\n",
        "\n",
        "    def encode(self, x, padding_mask):\n",
        "        x = self.input_embedding(x)\n",
        "        x = self.input_positional_encoding(x)\n",
        "\n",
        "        for encoder_layer in self.encoder:\n",
        "            x = encoder_layer(x, padding_mask)\n",
        "\n",
        "        return x\n",
        "\n",
        "    def decode(self, x, encoder_output, padding_mask, lookahead_mask):\n",
        "        x = self.output_embedding(x)\n",
        "        x = self.output_positional_encoding(x)\n",
        "        for decoder_layer in self.decoder:\n",
        "            x = decoder_layer(x, encoder_output, padding_mask, lookahead_mask)\n",
        "\n",
        "        return x\n",
        "\n",
        "    def predict(self, x):\n",
        "        return self.linear(x)"
      ],
      "metadata": {
        "id": "DudQXD1wdDhM"
      },
      "execution_count": 53,
      "outputs": []
    },
    {
      "cell_type": "code",
      "source": [
        "#train_dataloader, val_dataloader, input_tokenizer, output_tokenizer = build_dataloader_and_tokenizers(config)\n",
        "#encoder_input, decoder_input, label, padding_mask, lookahead_mask = train_dataloader.__iter__().__next__()"
      ],
      "metadata": {
        "id": "AvWdHqSufV39"
      },
      "execution_count": 54,
      "outputs": []
    },
    {
      "cell_type": "code",
      "source": [
        "transformer = Transformer(input_tokenizer.get_vocab_size(), output_tokenizer.get_vocab_size(), config['embed_size'], config['seq_len'], config['num_heads'], config['hidden_size'], config['dropout'], config['num_layers'])"
      ],
      "metadata": {
        "id": "pDI4cbwof86R"
      },
      "execution_count": 55,
      "outputs": []
    },
    {
      "cell_type": "code",
      "source": [
        "encoder_output = transformer.encode(encoder_input, padding_mask)"
      ],
      "metadata": {
        "id": "4BuQHl9ff_jd"
      },
      "execution_count": 56,
      "outputs": []
    },
    {
      "cell_type": "code",
      "source": [
        "encoder_output.shape"
      ],
      "metadata": {
        "colab": {
          "base_uri": "https://localhost:8080/"
        },
        "id": "2iEpaFf-hMDB",
        "outputId": "bdf4d251-51be-4814-8f79-34fd0ecf4e6b"
      },
      "execution_count": 57,
      "outputs": [
        {
          "output_type": "execute_result",
          "data": {
            "text/plain": [
              "torch.Size([64, 150, 512])"
            ]
          },
          "metadata": {},
          "execution_count": 57
        }
      ]
    },
    {
      "cell_type": "code",
      "source": [
        "decoder_output = transformer.decode(decoder_input, encoder_output, padding_mask, lookahead_mask)"
      ],
      "metadata": {
        "id": "L1WqtU9-hNUV"
      },
      "execution_count": 58,
      "outputs": []
    },
    {
      "cell_type": "code",
      "source": [
        "decoder_output.shape"
      ],
      "metadata": {
        "colab": {
          "base_uri": "https://localhost:8080/"
        },
        "id": "2rToOSZKh3m-",
        "outputId": "54d3ae3a-46f1-453f-ccaa-39c75bcc9f6e"
      },
      "execution_count": 59,
      "outputs": [
        {
          "output_type": "execute_result",
          "data": {
            "text/plain": [
              "torch.Size([64, 150, 512])"
            ]
          },
          "metadata": {},
          "execution_count": 59
        }
      ]
    },
    {
      "cell_type": "code",
      "source": [
        "out = transformer.predict(decoder_output[:,-1])"
      ],
      "metadata": {
        "id": "91VjgzZvh4eA"
      },
      "execution_count": 60,
      "outputs": []
    },
    {
      "cell_type": "code",
      "source": [
        "out.shape"
      ],
      "metadata": {
        "colab": {
          "base_uri": "https://localhost:8080/"
        },
        "id": "dJF48iC_iDO3",
        "outputId": "a91a4af6-114b-41db-bd6f-d4790282d2bc"
      },
      "execution_count": 61,
      "outputs": [
        {
          "output_type": "execute_result",
          "data": {
            "text/plain": [
              "torch.Size([64, 30000])"
            ]
          },
          "metadata": {},
          "execution_count": 61
        }
      ]
    },
    {
      "cell_type": "code",
      "source": [
        "_, next_word = torch.max(out, dim=1)"
      ],
      "metadata": {
        "id": "JwjzBKDTjte9"
      },
      "execution_count": 62,
      "outputs": []
    },
    {
      "cell_type": "code",
      "source": [
        "next_word.shape"
      ],
      "metadata": {
        "colab": {
          "base_uri": "https://localhost:8080/"
        },
        "id": "JymT_7kdks7G",
        "outputId": "f88d2e28-cd22-4ff0-bccb-f1f99fcd7202"
      },
      "execution_count": 63,
      "outputs": [
        {
          "output_type": "execute_result",
          "data": {
            "text/plain": [
              "torch.Size([64])"
            ]
          },
          "metadata": {},
          "execution_count": 63
        }
      ]
    },
    {
      "cell_type": "code",
      "source": [
        "next_word"
      ],
      "metadata": {
        "colab": {
          "base_uri": "https://localhost:8080/"
        },
        "id": "pSGKgMfnky1z",
        "outputId": "b7d44fed-762e-4794-c4ad-1723d892a663"
      },
      "execution_count": 64,
      "outputs": [
        {
          "output_type": "execute_result",
          "data": {
            "text/plain": [
              "tensor([ 7835,  2630,  7835,  7835,  7835,  7835,  7835,  7835,  7835,  7835,\n",
              "         7835,  5858,  5858,  7835,  2630,  7835,  7835,  7835,  7835,  7835,\n",
              "         5858,  7835,  7835,  7835, 29732,  7835,  6035,  7835, 25608,  7835,\n",
              "         6035,  7835,  7835,  7835,  7835, 12020,  9819,  7835,  7835,  6035,\n",
              "         2630,  7835,  7835,  7835, 20777,  6035,  6035,  7835,  7835,  7835,\n",
              "         7835,  7835, 19831,  7835,  3638,  7835, 29732,  2630, 23136,  5858,\n",
              "         7835,  5793,  7835,  7835])"
            ]
          },
          "metadata": {},
          "execution_count": 64
        }
      ]
    },
    {
      "cell_type": "code",
      "source": [
        "output_tokenizer.decode(next_word.tolist())"
      ],
      "metadata": {
        "colab": {
          "base_uri": "https://localhost:8080/",
          "height": 107
        },
        "id": "JDaRchZzi1_F",
        "outputId": "1fb084aa-6b45-4afd-dad2-5f73144256fa"
      },
      "execution_count": 65,
      "outputs": [
        {
          "output_type": "execute_result",
          "data": {
            "text/plain": [
              "'instable furent instable instable instable instable instable instable instable instable instable moustiquaires moustiquaires instable furent instable instable instable instable instable moustiquaires instable instable instable inversés instable franchir instable désarroi instable franchir instable instable instable instable Kaboul sévères instable instable franchir furent instable instable instable braves franchir franchir instable instable instable instable instable ping instable Ghana instable inversés furent gaspillons moustiquaires instable stockage instable instable'"
            ],
            "application/vnd.google.colaboratory.intrinsic+json": {
              "type": "string"
            }
          },
          "metadata": {},
          "execution_count": 65
        }
      ]
    },
    {
      "cell_type": "markdown",
      "source": [
        "# Training"
      ],
      "metadata": {
        "id": "BbBYtmqD7tfw"
      }
    },
    {
      "cell_type": "code",
      "source": [
        "# code from https://github.com/hkproj/pytorch-transformer/blob/main/config.py\n",
        "def get_weights_file_path(config, epoch: str):\n",
        "    model_folder = f\"{config['datasource']}_{config['model_folder']}\"\n",
        "    model_filename = f\"{config['model_basename']}{epoch}.pt\"\n",
        "    return str(Path('.') / model_folder / model_filename)\n",
        "\n",
        "# Find the latest weights file in the weights folder\n",
        "def latest_weights_file_path(config):\n",
        "    model_folder = f\"{config['datasource']}_{config['model_folder']}\"\n",
        "    model_filename = f\"{config['model_basename']}*\"\n",
        "    weights_files = list(Path(model_folder).glob(model_filename))\n",
        "    if len(weights_files) == 0:\n",
        "        return None\n",
        "    weights_files.sort()\n",
        "    return str(weights_files[-1])"
      ],
      "metadata": {
        "id": "fPBh21vwD85r"
      },
      "execution_count": 66,
      "outputs": []
    },
    {
      "cell_type": "code",
      "source": [
        "def train(config):\n",
        "    device = \"cuda\" if torch.cuda.is_available() else \"mps\" if torch.has_mps or torch.backends.mps.is_available() else \"cpu\"\n",
        "    print(\"Using device: \", device)\n",
        "\n",
        "    mlflow.start_run()\n",
        "\n",
        "    train_dataloader, val_dataloader, input_tokenizer, output_tokenizer = build_dataloader_and_tokenizers(config)\n",
        "\n",
        "    model = Transformer(input_tokenizer.get_vocab_size(), output_tokenizer.get_vocab_size(), config['embed_size'], config['seq_len'], config['num_heads'], config['hidden_size'], config['dropout'], config['num_layers'])\n",
        "    model.to(device)\n",
        "\n",
        "    # apply xavier initialization\n",
        "    for param in model.parameters():\n",
        "        if param.dim() > 1:\n",
        "            nn.init.xavier_uniform_(param)\n",
        "\n",
        "    Path(f\"{config['datasource']}_{config['model_folder']}\").mkdir(parents=True, exist_ok=True)\n",
        "\n",
        "    optimizer = torch.optim.AdamW(model.parameters(), lr=config['learning_rate'])\n",
        "    loss_fn = nn.CrossEntropyLoss(ignore_index=input_tokenizer.token_to_id('[PAD]')).to(device)\n",
        "\n",
        "    initial_epoch = 0\n",
        "    global_step = 0\n",
        "    best_epoch = 0\n",
        "    prev_val_loss = float('inf')\n",
        "    preload = config['preload']\n",
        "    model_filename = latest_weights_file_path(config) if preload == 'latest' else get_weights_file_path(config, preload) if preload else None\n",
        "    print(model_filename)\n",
        "    if model_filename:\n",
        "        print(f'Preloading model {model_filename}')\n",
        "        state = torch.load(model_filename)\n",
        "        model.load_state_dict(state['model_state_dict'])\n",
        "        initial_epoch = state['epoch'] + 1\n",
        "        optimizer.load_state_dict(state['optimizer_state_dict'])\n",
        "        global_step = state['global_step']\n",
        "        best_epoch = state['best_epoch']\n",
        "        prev_val_loss = state['prev_val_loss']\n",
        "    else:\n",
        "        print('No model to preload, starting from scratch')\n",
        "\n",
        "    mlflow.log_param(\"learning_rate\", config['learning_rate'])\n",
        "    mlflow.log_param(\"batch_size\", config['batch_size'])\n",
        "    mlflow.log_param(\"epochs\", config['num_epochs'])\n",
        "    mlflow.log_param(\"embed_size\", config['embed_size'])\n",
        "    mlflow.log_param(\"hidden_size\", config['hidden_size'])\n",
        "    mlflow.log_param(\"num_heads\", config['num_heads'])\n",
        "    mlflow.log_param(\"num_layers\", config['num_layers'])\n",
        "    mlflow.log_param(\"dropout\", config['dropout'])\n",
        "    mlflow.log_param(\"seq_len\", config['seq_len'])\n",
        "    mlflow.log_param(\"datasource\", config['datasource'])\n",
        "\n",
        "    mlflow.pytorch.log_model(model, \"models\")\n",
        "\n",
        "    for epoch in range(initial_epoch, config['num_epochs']):\n",
        "        torch.cuda.empty_cache()\n",
        "        model.train()\n",
        "        train_loss = 0\n",
        "        idx = 0\n",
        "        best_epoch = 0\n",
        "        for encoder_input, decoder_input, label, padding_mask, lookahead_mask in tqdm(train_dataloader, desc=f\"Processing Epoch {epoch} for training\"):\n",
        "            encoder_input = encoder_input.to(device) # (batch_size, seq_len)\n",
        "            decoder_input = decoder_input.to(device) # (batch_size, seq_len)\n",
        "            label = label.to(device) # (batch_size, seq_len)\n",
        "            padding_mask = padding_mask.to(device) # (batch_size, 1, 1, seq_len)\n",
        "            lookahead_mask = lookahead_mask.to(device) # (batch_size, 1, seq_len, seq_len)\n",
        "\n",
        "            encoder_output = model.encode(encoder_input, padding_mask)\n",
        "            decoder_output = model.decode(decoder_input, encoder_output, padding_mask, lookahead_mask)\n",
        "            output = model.predict(decoder_output)\n",
        "\n",
        "            loss = loss_fn(output.reshape(-1, output.shape[-1]), label.reshape(-1))\n",
        "            train_loss += loss.item()\n",
        "\n",
        "            optimizer.zero_grad()\n",
        "            loss.backward()\n",
        "            optimizer.step()\n",
        "            global_step += 1\n",
        "\n",
        "            idx += 1\n",
        "            if idx % 100 == 0:\n",
        "              print(\"Train loss: \", train_loss / idx)\n",
        "              mlflow.log_metric(\"Train loss\", train_loss / idx)\n",
        "\n",
        "\n",
        "        print(f\"Epoch Training Loss { train_loss / idx}\")\n",
        "        mlflow.log_metric(\"Epoch Training Loss\", train_loss / idx)\n",
        "\n",
        "        # validation\n",
        "        model.eval()\n",
        "        with torch.no_grad():\n",
        "            val_loss = 0\n",
        "            idx = 0\n",
        "            for encoder_input, decoder_input, label, padding_mask, lookahead_mask in tqdm(val_dataloader, desc=f\"Processing Epoch {epoch} for validation\"):\n",
        "                encoder_input = encoder_input.to(device) # (batch_size, seq_len)\n",
        "                decoder_input = decoder_input.to(device) # (batch_size, seq_len)\n",
        "                label = label.to(device) # (batch_size, seq_len)\n",
        "                padding_mask = padding_mask.to(device) # (batch_size, 1, 1, seq_len)\n",
        "                lookahead_mask = lookahead_mask.to(device) # (batch_size, 1, seq_len, seq_len)\n",
        "\n",
        "                encoder_output = model.encode(encoder_input, padding_mask)\n",
        "                decoder_output = model.decode(decoder_input, encoder_output, padding_mask, lookahead_mask)\n",
        "                output = model.predict(decoder_output)\n",
        "\n",
        "                loss = loss_fn(output.reshape(-1, output.shape[-1]), label.reshape(-1))\n",
        "                val_loss += loss.item()\n",
        "\n",
        "                idx += 1\n",
        "                if idx % 100 == 0:\n",
        "                  print(\"Validation loss: \", val_loss / idx)\n",
        "                  mlflow.log_metric(\"Validation loss\", val_loss / idx)\n",
        "\n",
        "        print(f\"Epoch Validation Loss { val_loss / idx}\")\n",
        "        mlflow.log_metric(\"Epoch Validation Loss\", val_loss / idx)\n",
        "\n",
        "        if val_loss / len(val_dataloader) < prev_val_loss:\n",
        "            best_epoch = epoch\n",
        "            prev_val_loss = val_loss / len(val_dataloader)\n",
        "\n",
        "        model_filename = get_weights_file_path(config, f\"{epoch:02d}\")\n",
        "        torch.save({\n",
        "            'epoch': epoch,\n",
        "            'model_state_dict': model.state_dict(),\n",
        "            'optimizer_state_dict': optimizer.state_dict(),\n",
        "            'global_step': global_step,\n",
        "            'best_epoch': best_epoch,\n",
        "            'prev_val_loss': prev_val_loss\n",
        "        }, model_filename)\n",
        "        mlflow.end_run()\n"
      ],
      "metadata": {
        "id": "DneZzzJ57yx_"
      },
      "execution_count": 67,
      "outputs": []
    },
    {
      "cell_type": "code",
      "source": [
        "train(config)"
      ],
      "metadata": {
        "colab": {
          "base_uri": "https://localhost:8080/",
          "height": 699
        },
        "id": "__-c0g_kKPL6",
        "outputId": "aff33b07-d737-4edb-fe61-b14ef50853b1"
      },
      "execution_count": 68,
      "outputs": [
        {
          "output_type": "stream",
          "name": "stdout",
          "text": [
            "Using device:  cuda\n",
            "None\n",
            "No model to preload, starting from scratch\n"
          ]
        },
        {
          "output_type": "stream",
          "name": "stderr",
          "text": [
            "2023/11/22 16:26:05 WARNING mlflow.utils.requirements_utils: Found torch version (2.1.0+cu118) contains a local version label (+cu118). MLflow logged a pip requirement for this package as 'torch==2.1.0' without the local version label to make it installable from PyPI. To specify pip requirements containing local version labels, please use `conda_env` or `pip_requirements`.\n",
            "2023/11/22 16:26:11 WARNING mlflow.utils.requirements_utils: Found torch version (2.1.0+cu118) contains a local version label (+cu118). MLflow logged a pip requirement for this package as 'torch==2.1.0' without the local version label to make it installable from PyPI. To specify pip requirements containing local version labels, please use `conda_env` or `pip_requirements`.\n",
            "/usr/local/lib/python3.10/dist-packages/_distutils_hack/__init__.py:33: UserWarning: Setuptools is replacing distutils.\n",
            "  warnings.warn(\"Setuptools is replacing distutils.\")\n",
            "Processing Epoch 0 for training:   3%|▎         | 100/3638 [01:56<1:07:38,  1.15s/it]"
          ]
        },
        {
          "output_type": "stream",
          "name": "stdout",
          "text": [
            "Train loss:  6.923396215438843\n"
          ]
        },
        {
          "output_type": "stream",
          "name": "stderr",
          "text": [
            "Processing Epoch 0 for training:   5%|▌         | 200/3638 [03:52<1:06:24,  1.16s/it]"
          ]
        },
        {
          "output_type": "stream",
          "name": "stdout",
          "text": [
            "Train loss:  6.672008047103882\n"
          ]
        },
        {
          "output_type": "stream",
          "name": "stderr",
          "text": [
            "Processing Epoch 0 for training:   8%|▊         | 300/3638 [05:47<1:04:33,  1.16s/it]"
          ]
        },
        {
          "output_type": "stream",
          "name": "stdout",
          "text": [
            "Train loss:  6.586062849362691\n"
          ]
        },
        {
          "output_type": "stream",
          "name": "stderr",
          "text": [
            "Processing Epoch 0 for training:  11%|█         | 400/3638 [07:43<1:02:23,  1.16s/it]"
          ]
        },
        {
          "output_type": "stream",
          "name": "stdout",
          "text": [
            "Train loss:  6.5459400594234465\n"
          ]
        },
        {
          "output_type": "stream",
          "name": "stderr",
          "text": [
            "Processing Epoch 0 for training:  14%|█▎        | 500/3638 [09:38<1:00:42,  1.16s/it]"
          ]
        },
        {
          "output_type": "stream",
          "name": "stdout",
          "text": [
            "Train loss:  6.521741988182068\n"
          ]
        },
        {
          "output_type": "stream",
          "name": "stderr",
          "text": [
            "Processing Epoch 0 for training:  16%|█▋        | 600/3638 [11:34<58:30,  1.16s/it]"
          ]
        },
        {
          "output_type": "stream",
          "name": "stdout",
          "text": [
            "Train loss:  6.502556925614675\n"
          ]
        },
        {
          "output_type": "stream",
          "name": "stderr",
          "text": [
            "Processing Epoch 0 for training:  19%|█▉        | 700/3638 [13:29<56:41,  1.16s/it]"
          ]
        },
        {
          "output_type": "stream",
          "name": "stdout",
          "text": [
            "Train loss:  6.4905577639171055\n"
          ]
        },
        {
          "output_type": "stream",
          "name": "stderr",
          "text": [
            "Processing Epoch 0 for training:  22%|██▏       | 800/3638 [15:25<54:31,  1.15s/it]"
          ]
        },
        {
          "output_type": "stream",
          "name": "stdout",
          "text": [
            "Train loss:  6.481595509648323\n"
          ]
        },
        {
          "output_type": "stream",
          "name": "stderr",
          "text": [
            "Processing Epoch 0 for training:  25%|██▍       | 900/3638 [17:20<52:52,  1.16s/it]"
          ]
        },
        {
          "output_type": "stream",
          "name": "stdout",
          "text": [
            "Train loss:  6.472768846617805\n"
          ]
        },
        {
          "output_type": "stream",
          "name": "stderr",
          "text": [
            "Processing Epoch 0 for training:  27%|██▋       | 1000/3638 [19:16<50:47,  1.16s/it]"
          ]
        },
        {
          "output_type": "stream",
          "name": "stdout",
          "text": [
            "Train loss:  6.465804897785187\n"
          ]
        },
        {
          "output_type": "stream",
          "name": "stderr",
          "text": [
            "Processing Epoch 0 for training:  30%|███       | 1100/3638 [21:11<48:56,  1.16s/it]"
          ]
        },
        {
          "output_type": "stream",
          "name": "stdout",
          "text": [
            "Train loss:  6.459820019982078\n"
          ]
        },
        {
          "output_type": "stream",
          "name": "stderr",
          "text": [
            "Processing Epoch 0 for training:  33%|███▎      | 1200/3638 [23:06<46:52,  1.15s/it]"
          ]
        },
        {
          "output_type": "stream",
          "name": "stdout",
          "text": [
            "Train loss:  6.455407412052154\n"
          ]
        },
        {
          "output_type": "stream",
          "name": "stderr",
          "text": [
            "Processing Epoch 0 for training:  36%|███▌      | 1300/3638 [25:02<44:59,  1.15s/it]"
          ]
        },
        {
          "output_type": "stream",
          "name": "stdout",
          "text": [
            "Train loss:  6.452039743203383\n"
          ]
        },
        {
          "output_type": "stream",
          "name": "stderr",
          "text": [
            "Processing Epoch 0 for training:  38%|███▊      | 1374/3638 [26:27<43:36,  1.16s/it]\n"
          ]
        },
        {
          "output_type": "error",
          "ename": "KeyboardInterrupt",
          "evalue": "ignored",
          "traceback": [
            "\u001b[0;31m---------------------------------------------------------------------------\u001b[0m",
            "\u001b[0;31mKeyboardInterrupt\u001b[0m                         Traceback (most recent call last)",
            "\u001b[0;32m<ipython-input-68-8e44f5f578ba>\u001b[0m in \u001b[0;36m<cell line: 1>\u001b[0;34m()\u001b[0m\n\u001b[0;32m----> 1\u001b[0;31m \u001b[0mtrain\u001b[0m\u001b[0;34m(\u001b[0m\u001b[0mconfig\u001b[0m\u001b[0;34m)\u001b[0m\u001b[0;34m\u001b[0m\u001b[0;34m\u001b[0m\u001b[0m\n\u001b[0m",
            "\u001b[0;32m<ipython-input-67-ce94c7329119>\u001b[0m in \u001b[0;36mtrain\u001b[0;34m(config)\u001b[0m\n\u001b[1;32m     70\u001b[0m \u001b[0;34m\u001b[0m\u001b[0m\n\u001b[1;32m     71\u001b[0m             \u001b[0mloss\u001b[0m \u001b[0;34m=\u001b[0m \u001b[0mloss_fn\u001b[0m\u001b[0;34m(\u001b[0m\u001b[0moutput\u001b[0m\u001b[0;34m.\u001b[0m\u001b[0mreshape\u001b[0m\u001b[0;34m(\u001b[0m\u001b[0;34m-\u001b[0m\u001b[0;36m1\u001b[0m\u001b[0;34m,\u001b[0m \u001b[0moutput\u001b[0m\u001b[0;34m.\u001b[0m\u001b[0mshape\u001b[0m\u001b[0;34m[\u001b[0m\u001b[0;34m-\u001b[0m\u001b[0;36m1\u001b[0m\u001b[0;34m]\u001b[0m\u001b[0;34m)\u001b[0m\u001b[0;34m,\u001b[0m \u001b[0mlabel\u001b[0m\u001b[0;34m.\u001b[0m\u001b[0mreshape\u001b[0m\u001b[0;34m(\u001b[0m\u001b[0;34m-\u001b[0m\u001b[0;36m1\u001b[0m\u001b[0;34m)\u001b[0m\u001b[0;34m)\u001b[0m\u001b[0;34m\u001b[0m\u001b[0;34m\u001b[0m\u001b[0m\n\u001b[0;32m---> 72\u001b[0;31m             \u001b[0mtrain_loss\u001b[0m \u001b[0;34m+=\u001b[0m \u001b[0mloss\u001b[0m\u001b[0;34m.\u001b[0m\u001b[0mitem\u001b[0m\u001b[0;34m(\u001b[0m\u001b[0;34m)\u001b[0m\u001b[0;34m\u001b[0m\u001b[0;34m\u001b[0m\u001b[0m\n\u001b[0m\u001b[1;32m     73\u001b[0m \u001b[0;34m\u001b[0m\u001b[0m\n\u001b[1;32m     74\u001b[0m             \u001b[0moptimizer\u001b[0m\u001b[0;34m.\u001b[0m\u001b[0mzero_grad\u001b[0m\u001b[0;34m(\u001b[0m\u001b[0;34m)\u001b[0m\u001b[0;34m\u001b[0m\u001b[0;34m\u001b[0m\u001b[0m\n",
            "\u001b[0;31mKeyboardInterrupt\u001b[0m: "
          ]
        }
      ]
    }
  ]
}